{
 "cells": [
  {
   "cell_type": "code",
   "execution_count": 1,
   "metadata": {},
   "outputs": [],
   "source": [
    "import cv2\n",
    "import os\n",
    "import matplotlib.pyplot as plt\n",
    "import numpy as np\n",
    "import math\n",
    "import pandas as pd"
   ]
  },
  {
   "cell_type": "code",
   "execution_count": 21,
   "metadata": {},
   "outputs": [],
   "source": [
    "from sklearn import preprocessing\n",
    "from sklearn.linear_model import LogisticRegression\n",
    "from sklearn.model_selection import train_test_split\n",
    "from sklearn import metrics"
   ]
  },
  {
   "cell_type": "code",
   "execution_count": 2,
   "metadata": {},
   "outputs": [],
   "source": [
    "def count_level(img):\n",
    "    gray=cv2.cvtColor(img,cv2.COLOR_BGR2GRAY)\n",
    "    shape = gray.shape\n",
    "    width = shape[1]\n",
    "    edges = cv2.Canny(gray, 80, 120)\n",
    "    lines = cv2.HoughLinesP(edges, rho = 1, theta = math.pi/2, minLineLength = 0.8*width, threshold = 1, maxLineGap = 3)\n",
    "    lines = lines.tolist()\n",
    "#     for i in lines:\n",
    "#         for j in lines:\n",
    "#             if j != i and abs(i[0][1]-j[0][1]) < 15:\n",
    "#                 lines.remove(j)\n",
    "    flags = [0]*len(lines)\n",
    "    for i in range(len(lines)):\n",
    "        for j in range(len(lines)):\n",
    "            if j < i and (abs(lines[i][0][1]-lines[j][0][1]) < 15):\n",
    "                flags[j] = 1\n",
    "        if abs(lines[i][0][1]-0) < 10:\n",
    "            flags[i] = 1\n",
    "    counter = 0\n",
    "    for i in range(len(flags)):\n",
    "        if flags[i] == 0:\n",
    "            counter += 1                \n",
    "    return counter"
   ]
  },
  {
   "cell_type": "code",
   "execution_count": 3,
   "metadata": {},
   "outputs": [],
   "source": [
    "def fraction_width(img):\n",
    "    gray = cv2.cvtColor(img, cv2.COLOR_BGR2GRAY)\n",
    "    height = gray.shape[0]\n",
    "    width = gray.shape[1]\n",
    "    \n",
    "    ret, thresh = cv2.threshold(gray, 200, 255, 0)\n",
    "    _, contours, h = cv2.findContours(thresh, cv2.RETR_TREE, cv2.CHAIN_APPROX_SIMPLE)\n",
    "    \n",
    "    quadrilaterals = []\n",
    "    for i in range(len(contours)):\n",
    "        polygon = cv2.approxPolyDP(contours[i],0.01*cv2.arcLength(contours[i],True),True)\n",
    "        if len(polygon) == 4:\n",
    "            quadrilaterals.append(polygon) \n",
    "            \n",
    "    redflag = [0]*len(quadrilaterals)\n",
    "    \n",
    "    for i in range(len(quadrilaterals)):\n",
    "        q = quadrilaterals[i]\n",
    "        for j in range(4):\n",
    "            if abs(q[j][0][0] - gray.shape[1]) < 5 or abs(q[j][0][0]) < 5:\n",
    "                redflag[i] = 1\n",
    "    \n",
    "    detection_series = np.zeros(gray.shape[1], dtype = 'uint8')\n",
    "    \n",
    "    for i in range(len(quadrilaterals)):\n",
    "        q = quadrilaterals[i]\n",
    "        if redflag[i]!=1:\n",
    "            x_min = np.min(q[:,0,0])\n",
    "            x_max = np.max(q[:,0,0])\n",
    "            detection_series[x_min:x_max] = np.ones(x_max-x_min, dtype = 'uint8')\n",
    "    \n",
    "    return np.sum(detection_series)/gray.shape[1]"
   ]
  },
  {
   "cell_type": "code",
   "execution_count": 4,
   "metadata": {},
   "outputs": [],
   "source": [
    "def count_openings(img):\n",
    "    gray = cv2.cvtColor(img, cv2.COLOR_BGR2GRAY)\n",
    "    height = gray.shape[0]\n",
    "    width = gray.shape[1]\n",
    "    \n",
    "    ret,thresh = cv2.threshold(gray, 200, 255, 0)\n",
    "    _, contours, h = cv2.findContours(thresh, cv2.RETR_TREE, cv2.CHAIN_APPROX_SIMPLE)\n",
    "    \n",
    "    quadrilaterals = []\n",
    "    for i in range(len(contours)):\n",
    "        polygon = cv2.approxPolyDP(contours[i],0.01*cv2.arcLength(contours[i],True),True)\n",
    "        if len(polygon) == 4:\n",
    "            quadrilaterals.append(polygon) \n",
    "            \n",
    "    redflag = [0]*len(quadrilaterals)\n",
    "    \n",
    "    for i in range(len(quadrilaterals)):\n",
    "        q = quadrilaterals[i]\n",
    "        for j in range(4):\n",
    "            if abs(q[j][0][0] - gray.shape[1]) < 5 or abs(q[j][0][0]) < 5:\n",
    "                redflag[i] = 1\n",
    "    \n",
    "    return (len(quadrilaterals) - np.sum(redflag))"
   ]
  },
  {
   "cell_type": "code",
   "execution_count": 5,
   "metadata": {},
   "outputs": [],
   "source": [
    "path_generated_go = r'GO_noGO Data Set_Images/TestGo//'\n",
    "path_generated_nogo = r'GO_noGO Data Set_Images/TestNoGo//'"
   ]
  },
  {
   "cell_type": "code",
   "execution_count": 6,
   "metadata": {},
   "outputs": [],
   "source": [
    "files_go = list(os.walk(path_generated_go))[0][2]\n",
    "files_nogo = list(os.walk(path_generated_nogo))[0][2]\n",
    "files_1 = files_go + files_nogo\n",
    "files = [int(i.split(\"Img\")[1].split(\".\")[0]) for i in files_1]"
   ]
  },
  {
   "cell_type": "code",
   "execution_count": 7,
   "metadata": {},
   "outputs": [],
   "source": [
    "list_img = []\n",
    "for i in files_go:\n",
    "    list_img.append(cv2.imread(path_generated_go + i))\n",
    "for i in files_nogo:\n",
    "    list_img.append(cv2.imread(path_generated_nogo + i))"
   ]
  },
  {
   "cell_type": "code",
   "execution_count": 8,
   "metadata": {},
   "outputs": [],
   "source": [
    "levels = []\n",
    "for i in range(len(list_img)):\n",
    "    n_level = count_level(list_img[i])\n",
    "    levels.append(n_level)"
   ]
  },
  {
   "cell_type": "code",
   "execution_count": 9,
   "metadata": {},
   "outputs": [
    {
     "data": {
      "text/plain": [
       "{1, 2, 3, 4}"
      ]
     },
     "execution_count": 9,
     "metadata": {},
     "output_type": "execute_result"
    }
   ],
   "source": [
    "set(levels)"
   ]
  },
  {
   "cell_type": "code",
   "execution_count": 10,
   "metadata": {},
   "outputs": [],
   "source": [
    "fractions = []\n",
    "for i in range(len(list_img)):\n",
    "    frac = fraction_width(list_img[i])\n",
    "    fractions.append(frac)"
   ]
  },
  {
   "cell_type": "code",
   "execution_count": 11,
   "metadata": {},
   "outputs": [],
   "source": [
    "openings = []\n",
    "for i in range(len(list_img)):\n",
    "    opens = count_openings(list_img[i])\n",
    "    openings.append(opens)"
   ]
  },
  {
   "cell_type": "code",
   "execution_count": 12,
   "metadata": {},
   "outputs": [
    {
     "data": {
      "text/plain": [
       "[6081, 1936, 6095, 6903, 8090, 8084, 333, 6917, 6724, 6042]"
      ]
     },
     "execution_count": 12,
     "metadata": {},
     "output_type": "execute_result"
    }
   ],
   "source": [
    "files_go_idx = []\n",
    "for file in files_go:\n",
    "    files_go_idx.append(int(file.split(\"Img\")[1].split(\".\")[0]))\n",
    "files_go_idx[:10]"
   ]
  },
  {
   "cell_type": "code",
   "execution_count": 13,
   "metadata": {},
   "outputs": [
    {
     "data": {
      "text/plain": [
       "[1088, 3847, 2581, 4696, 5588, 469, 1922, 4682, 3853, 2595]"
      ]
     },
     "execution_count": 13,
     "metadata": {},
     "output_type": "execute_result"
    }
   ],
   "source": [
    "files_nogo_idx = []\n",
    "for file in files_nogo:\n",
    "    if \"Img\" in file:\n",
    "        files_nogo_idx.append(int(file.split(\"Img\")[1].split(\".\")[0]))\n",
    "files_nogo_idx[:10]"
   ]
  },
  {
   "cell_type": "code",
   "execution_count": 14,
   "metadata": {},
   "outputs": [],
   "source": [
    "dic = {\"openings\":openings, \"fractions\":fractions, \"levels\":levels, \"filename\":files}\n",
    "df = pd.DataFrame(dic)"
   ]
  },
  {
   "cell_type": "code",
   "execution_count": 15,
   "metadata": {},
   "outputs": [
    {
     "data": {
      "text/html": [
       "<div>\n",
       "<style scoped>\n",
       "    .dataframe tbody tr th:only-of-type {\n",
       "        vertical-align: middle;\n",
       "    }\n",
       "\n",
       "    .dataframe tbody tr th {\n",
       "        vertical-align: top;\n",
       "    }\n",
       "\n",
       "    .dataframe thead th {\n",
       "        text-align: right;\n",
       "    }\n",
       "</style>\n",
       "<table border=\"1\" class=\"dataframe\">\n",
       "  <thead>\n",
       "    <tr style=\"text-align: right;\">\n",
       "      <th></th>\n",
       "      <th>openings</th>\n",
       "      <th>fractions</th>\n",
       "      <th>levels</th>\n",
       "      <th>filename</th>\n",
       "    </tr>\n",
       "  </thead>\n",
       "  <tbody>\n",
       "    <tr>\n",
       "      <th>0</th>\n",
       "      <td>2</td>\n",
       "      <td>0.182203</td>\n",
       "      <td>1</td>\n",
       "      <td>6081</td>\n",
       "    </tr>\n",
       "    <tr>\n",
       "      <th>1</th>\n",
       "      <td>2</td>\n",
       "      <td>0.099812</td>\n",
       "      <td>2</td>\n",
       "      <td>1936</td>\n",
       "    </tr>\n",
       "    <tr>\n",
       "      <th>2</th>\n",
       "      <td>4</td>\n",
       "      <td>0.303202</td>\n",
       "      <td>2</td>\n",
       "      <td>6095</td>\n",
       "    </tr>\n",
       "    <tr>\n",
       "      <th>3</th>\n",
       "      <td>1</td>\n",
       "      <td>0.088136</td>\n",
       "      <td>1</td>\n",
       "      <td>6903</td>\n",
       "    </tr>\n",
       "    <tr>\n",
       "      <th>4</th>\n",
       "      <td>2</td>\n",
       "      <td>0.111864</td>\n",
       "      <td>2</td>\n",
       "      <td>8090</td>\n",
       "    </tr>\n",
       "  </tbody>\n",
       "</table>\n",
       "</div>"
      ],
      "text/plain": [
       "   openings  fractions  levels  filename\n",
       "0         2   0.182203       1      6081\n",
       "1         2   0.099812       2      1936\n",
       "2         4   0.303202       2      6095\n",
       "3         1   0.088136       1      6903\n",
       "4         2   0.111864       2      8090"
      ]
     },
     "execution_count": 15,
     "metadata": {},
     "output_type": "execute_result"
    }
   ],
   "source": [
    "df.head()"
   ]
  },
  {
   "cell_type": "code",
   "execution_count": 16,
   "metadata": {},
   "outputs": [],
   "source": [
    "df['Go/NoGo']=df['filename'].apply(lambda x: 1 if x in files_go_idx else 0)"
   ]
  },
  {
   "cell_type": "code",
   "execution_count": 17,
   "metadata": {},
   "outputs": [
    {
     "data": {
      "text/html": [
       "<div>\n",
       "<style scoped>\n",
       "    .dataframe tbody tr th:only-of-type {\n",
       "        vertical-align: middle;\n",
       "    }\n",
       "\n",
       "    .dataframe tbody tr th {\n",
       "        vertical-align: top;\n",
       "    }\n",
       "\n",
       "    .dataframe thead th {\n",
       "        text-align: right;\n",
       "    }\n",
       "</style>\n",
       "<table border=\"1\" class=\"dataframe\">\n",
       "  <thead>\n",
       "    <tr style=\"text-align: right;\">\n",
       "      <th></th>\n",
       "      <th>openings</th>\n",
       "      <th>fractions</th>\n",
       "      <th>levels</th>\n",
       "      <th>filename</th>\n",
       "      <th>Go/NoGo</th>\n",
       "    </tr>\n",
       "  </thead>\n",
       "  <tbody>\n",
       "    <tr>\n",
       "      <th>0</th>\n",
       "      <td>2</td>\n",
       "      <td>0.182203</td>\n",
       "      <td>1</td>\n",
       "      <td>6081</td>\n",
       "      <td>1</td>\n",
       "    </tr>\n",
       "    <tr>\n",
       "      <th>1</th>\n",
       "      <td>2</td>\n",
       "      <td>0.099812</td>\n",
       "      <td>2</td>\n",
       "      <td>1936</td>\n",
       "      <td>1</td>\n",
       "    </tr>\n",
       "    <tr>\n",
       "      <th>2</th>\n",
       "      <td>4</td>\n",
       "      <td>0.303202</td>\n",
       "      <td>2</td>\n",
       "      <td>6095</td>\n",
       "      <td>1</td>\n",
       "    </tr>\n",
       "    <tr>\n",
       "      <th>3</th>\n",
       "      <td>1</td>\n",
       "      <td>0.088136</td>\n",
       "      <td>1</td>\n",
       "      <td>6903</td>\n",
       "      <td>1</td>\n",
       "    </tr>\n",
       "    <tr>\n",
       "      <th>4</th>\n",
       "      <td>2</td>\n",
       "      <td>0.111864</td>\n",
       "      <td>2</td>\n",
       "      <td>8090</td>\n",
       "      <td>1</td>\n",
       "    </tr>\n",
       "  </tbody>\n",
       "</table>\n",
       "</div>"
      ],
      "text/plain": [
       "   openings  fractions  levels  filename  Go/NoGo\n",
       "0         2   0.182203       1      6081        1\n",
       "1         2   0.099812       2      1936        1\n",
       "2         4   0.303202       2      6095        1\n",
       "3         1   0.088136       1      6903        1\n",
       "4         2   0.111864       2      8090        1"
      ]
     },
     "execution_count": 17,
     "metadata": {},
     "output_type": "execute_result"
    }
   ],
   "source": [
    "df.head()"
   ]
  },
  {
   "cell_type": "code",
   "execution_count": 23,
   "metadata": {},
   "outputs": [
    {
     "name": "stdout",
     "output_type": "stream",
     "text": [
      "Accuracy of logistic regression classifier on test set: 0.80\n"
     ]
    },
    {
     "name": "stderr",
     "output_type": "stream",
     "text": [
      "/Applications/anaconda3/envs/build/lib/python3.7/site-packages/sklearn/linear_model/logistic.py:432: FutureWarning: Default solver will be changed to 'lbfgs' in 0.22. Specify a solver to silence this warning.\n",
      "  FutureWarning)\n"
     ]
    }
   ],
   "source": [
    "X_train, X_test, y_train, y_test = train_test_split(df[['openings', 'fractions', 'levels']], df['Go/NoGo'], test_size=0.3, random_state=0)\n",
    "logreg = LogisticRegression()\n",
    "logreg.fit(X_train, y_train)\n",
    "\n",
    "y_pred = logreg.predict(X_test)\n",
    "print('Accuracy of logistic regression classifier on test set: {:.2f}'.format(logreg.score(X_test, y_test)))"
   ]
  }
 ],
 "metadata": {
  "kernelspec": {
   "display_name": "Python (build_change)",
   "language": "python",
   "name": "build_change"
  },
  "language_info": {
   "codemirror_mode": {
    "name": "ipython",
    "version": 3
   },
   "file_extension": ".py",
   "mimetype": "text/x-python",
   "name": "python",
   "nbconvert_exporter": "python",
   "pygments_lexer": "ipython3",
   "version": "3.7.5"
  }
 },
 "nbformat": 4,
 "nbformat_minor": 2
}
