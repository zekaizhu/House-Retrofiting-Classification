{
 "cells": [
  {
   "cell_type": "code",
   "execution_count": 67,
   "metadata": {},
   "outputs": [],
   "source": [
    "import cv2\n",
    "import os\n",
    "import matplotlib.pyplot as plt\n",
    "import numpy as np\n",
    "import math"
   ]
  },
  {
   "cell_type": "markdown",
   "metadata": {},
   "source": [
    "### The data is stored inside the 'team' directory"
   ]
  },
  {
   "cell_type": "code",
   "execution_count": 2,
   "metadata": {},
   "outputs": [],
   "source": [
    "path = '../../team/courses/MSiA400/GrandTeton'"
   ]
  },
  {
   "cell_type": "code",
   "execution_count": 3,
   "metadata": {},
   "outputs": [],
   "source": [
    "path_real = path + '/Photos-20191020T020916Z-001/Photos/'\n",
    "path_generated_go = path + '/GO_noGO Data Set_Images/TestGo/'\n",
    "path_generated_nogo = path + '/GO_noGO Data Set_Images/TestNoGo/'"
   ]
  },
  {
   "cell_type": "code",
   "execution_count": 4,
   "metadata": {},
   "outputs": [
    {
     "data": {
      "text/plain": [
       "['Img1007.png',\n",
       " 'Img1008.png',\n",
       " 'Img1011.png',\n",
       " 'Img1016.png',\n",
       " 'Img1026.png',\n",
       " 'Img103.png',\n",
       " 'Img1031.png',\n",
       " 'Img1039.png',\n",
       " 'Img1047.png',\n",
       " 'Img105.png']"
      ]
     },
     "execution_count": 4,
     "metadata": {},
     "output_type": "execute_result"
    }
   ],
   "source": [
    "## A list of files inside the 'path_generated_go' directory:\n",
    "files_go = list(os.walk(path_generated_go))[0][2]\n",
    "files_go[:10]"
   ]
  },
  {
   "cell_type": "code",
   "execution_count": 5,
   "metadata": {},
   "outputs": [
    {
     "data": {
      "text/plain": [
       "3371"
      ]
     },
     "execution_count": 5,
     "metadata": {},
     "output_type": "execute_result"
    }
   ],
   "source": [
    "len(files_go)"
   ]
  },
  {
   "cell_type": "markdown",
   "metadata": {},
   "source": [
    "### cv2.imread function reads an image as a numpy ndarray"
   ]
  },
  {
   "cell_type": "code",
   "execution_count": 6,
   "metadata": {},
   "outputs": [
    {
     "name": "stdout",
     "output_type": "stream",
     "text": [
      "[[[ 32  32  32]\n",
      "  [ 55  49  43]\n",
      "  [ 55  49  43]\n",
      "  ...\n",
      "  [ 55  49  43]\n",
      "  [ 55  49  43]\n",
      "  [ 32  32  32]]\n",
      "\n",
      " [[ 32  32  32]\n",
      "  [ 98  87  76]\n",
      "  [112  99  87]\n",
      "  ...\n",
      "  [111  98  86]\n",
      "  [ 97  85  75]\n",
      "  [ 32  32  32]]\n",
      "\n",
      " [[ 32  32  32]\n",
      "  [100  88  78]\n",
      "  [114 101  89]\n",
      "  ...\n",
      "  [112  99  87]\n",
      "  [ 98  86  76]\n",
      "  [ 32  32  32]]\n",
      "\n",
      " ...\n",
      "\n",
      " [[255 255 255]\n",
      "  [255 255 255]\n",
      "  [255 255 255]\n",
      "  ...\n",
      "  [255 255 255]\n",
      "  [255 255 255]\n",
      "  [255 255 255]]\n",
      "\n",
      " [[255 255 255]\n",
      "  [255 255 255]\n",
      "  [255 255 255]\n",
      "  ...\n",
      "  [255 255 255]\n",
      "  [255 255 255]\n",
      "  [255 255 255]]\n",
      "\n",
      " [[255 255 255]\n",
      "  [255 255 255]\n",
      "  [255 255 255]\n",
      "  ...\n",
      "  [255 255 255]\n",
      "  [255 255 255]\n",
      "  [255 255 255]]]\n"
     ]
    }
   ],
   "source": [
    "img = cv2.imread(path_generated_go+files_go[0])\n",
    "print(img)"
   ]
  },
  {
   "cell_type": "code",
   "execution_count": 7,
   "metadata": {},
   "outputs": [
    {
     "data": {
      "text/plain": [
       "numpy.ndarray"
      ]
     },
     "execution_count": 7,
     "metadata": {},
     "output_type": "execute_result"
    }
   ],
   "source": [
    "type(img)"
   ]
  },
  {
   "cell_type": "code",
   "execution_count": 8,
   "metadata": {},
   "outputs": [
    {
     "data": {
      "text/plain": [
       "(206, 531, 3)"
      ]
     },
     "execution_count": 8,
     "metadata": {},
     "output_type": "execute_result"
    }
   ],
   "source": [
    "img.shape"
   ]
  },
  {
   "cell_type": "markdown",
   "metadata": {},
   "source": [
    "#### Images are 3 dimensional arrays. First two dimensions denote the pixel resolution (206x531). The last dimension is for colour depth. In cases where the image is a 2D array then it is generally a Black and White image. "
   ]
  },
  {
   "cell_type": "code",
   "execution_count": 9,
   "metadata": {},
   "outputs": [
    {
     "data": {
      "text/plain": [
       "dtype('uint8')"
      ]
     },
     "execution_count": 9,
     "metadata": {},
     "output_type": "execute_result"
    }
   ],
   "source": [
    "img.dtype"
   ]
  },
  {
   "cell_type": "code",
   "execution_count": 10,
   "metadata": {},
   "outputs": [
    {
     "data": {
      "text/plain": [
       "\"\\ncv2.imshow('image', img) \\ncv2.waitKey(0)\\ncv2.destroyAllWindows()\\n\""
      ]
     },
     "execution_count": 10,
     "metadata": {},
     "output_type": "execute_result"
    }
   ],
   "source": [
    "\"\"\"\n",
    "cv2.imshow('image', img) \n",
    "cv2.waitKey(0)\n",
    "cv2.destroyAllWindows()\n",
    "\"\"\""
   ]
  },
  {
   "cell_type": "code",
   "execution_count": 11,
   "metadata": {},
   "outputs": [
    {
     "data": {
      "image/png": "[encoded data removed]",
      "text/plain": [
       "<Figure size 432x288 with 1 Axes>"
      ]
     },
     "metadata": {
      "needs_background": "light"
     },
     "output_type": "display_data"
    }
   ],
   "source": [
    "## we can plot the image using matplotlib but the colors are inverted so reverting back using cv2.COLOR_BGR2RGB function.\n",
    "plt.imshow(cv2.cvtColor(img, cv2.COLOR_BGR2RGB))\n",
    "plt.show()"
   ]
  },
  {
   "cell_type": "code",
   "execution_count": 12,
   "metadata": {},
   "outputs": [
    {
     "data": {
      "image/png": "[encoded data removed]",
      "text/plain": [
       "<Figure size 432x288 with 1 Axes>"
      ]
     },
     "metadata": {
      "needs_background": "light"
     },
     "output_type": "display_data"
    }
   ],
   "source": [
    "# 0 means black\n",
    "black_img = np.zeros((206, 531, 3), dtype = 'uint8')\n",
    "plt.imshow(cv2.cvtColor(black_img, cv2.COLOR_BGR2RGB))\n",
    "plt.show()"
   ]
  },
  {
   "cell_type": "code",
   "execution_count": 13,
   "metadata": {},
   "outputs": [
    {
     "data": {
      "image/png": "[encoded data removed]",
      "text/plain": [
       "<Figure size 432x288 with 1 Axes>"
      ]
     },
     "metadata": {
      "needs_background": "light"
     },
     "output_type": "display_data"
    }
   ],
   "source": [
    "# 255 means white\n",
    "white_img = 255*np.ones((206, 531, 3), dtype = 'uint8')\n",
    "plt.imshow(cv2.cvtColor(white_img, cv2.COLOR_BGR2RGB))\n",
    "plt.show()"
   ]
  },
  {
   "cell_type": "code",
   "execution_count": 14,
   "metadata": {},
   "outputs": [
    {
     "data": {
      "image/png": "[encoded data removed]",
      "text/plain": [
       "<Figure size 432x288 with 1 Axes>"
      ]
     },
     "metadata": {
      "needs_background": "light"
     },
     "output_type": "display_data"
    }
   ],
   "source": [
    "## BGR channels\n",
    "\n",
    "# First channel Blue\n",
    "blue_img = np.zeros((206, 531, 3), dtype = 'uint8')\n",
    "blue_img[:,:,0] = 255*np.ones((206, 531), dtype = 'uint8')\n",
    "\n",
    "plt.imshow(cv2.cvtColor(blue_img, cv2.COLOR_BGR2RGB))\n",
    "plt.show()"
   ]
  },
  {
   "cell_type": "code",
   "execution_count": 15,
   "metadata": {},
   "outputs": [
    {
     "data": {
      "image/png": "[encoded data removed]",
      "text/plain": [
       "<Figure size 432x288 with 1 Axes>"
      ]
     },
     "metadata": {
      "needs_background": "light"
     },
     "output_type": "display_data"
    }
   ],
   "source": [
    "# Second channel Green\n",
    "green_img = np.zeros((206, 531, 3), dtype = 'uint8')\n",
    "green_img[:,:,1] = 255*np.ones((206, 531), dtype = 'uint8')\n",
    "\n",
    "plt.imshow(cv2.cvtColor(green_img, cv2.COLOR_BGR2RGB))\n",
    "plt.show()"
   ]
  },
  {
   "cell_type": "code",
   "execution_count": 16,
   "metadata": {},
   "outputs": [
    {
     "data": {
      "image/png": "[encoded data removed]",
      "text/plain": [
       "<Figure size 432x288 with 1 Axes>"
      ]
     },
     "metadata": {
      "needs_background": "light"
     },
     "output_type": "display_data"
    }
   ],
   "source": [
    "# Third channel Red\n",
    "red_img = np.zeros((206, 531, 3), dtype = 'uint8')\n",
    "red_img[:,:,2] = 255*np.ones((206, 531), dtype = 'uint8')\n",
    "\n",
    "plt.imshow(cv2.cvtColor(red_img, cv2.COLOR_BGR2RGB))\n",
    "plt.show()"
   ]
  },
  {
   "cell_type": "code",
   "execution_count": 17,
   "metadata": {},
   "outputs": [
    {
     "data": {
      "image/png": "[encoded data removed]",
      "text/plain": [
       "<Figure size 432x288 with 1 Axes>"
      ]
     },
     "metadata": {
      "needs_background": "light"
     },
     "output_type": "display_data"
    }
   ],
   "source": [
    "plt.imshow(cv2.cvtColor(img[:,:,0], cv2.COLOR_BGR2RGB))\n",
    "plt.show()"
   ]
  },
  {
   "cell_type": "code",
   "execution_count": 18,
   "metadata": {},
   "outputs": [
    {
     "data": {
      "image/png": "[encoded data removed]",
      "text/plain": [
       "<Figure size 432x288 with 1 Axes>"
      ]
     },
     "metadata": {
      "needs_background": "light"
     },
     "output_type": "display_data"
    }
   ],
   "source": [
    "plt.imshow(cv2.cvtColor(img[:,:,1], cv2.COLOR_BGR2RGB))\n",
    "plt.show()"
   ]
  },
  {
   "cell_type": "code",
   "execution_count": 19,
   "metadata": {},
   "outputs": [
    {
     "data": {
      "image/png": "[encoded data removed]",
      "text/plain": [
       "<Figure size 432x288 with 1 Axes>"
      ]
     },
     "metadata": {
      "needs_background": "light"
     },
     "output_type": "display_data"
    }
   ],
   "source": [
    "plt.imshow(cv2.cvtColor(img[:,:,2], cv2.COLOR_BGR2RGB))\n",
    "plt.show()"
   ]
  },
  {
   "cell_type": "code",
   "execution_count": 20,
   "metadata": {},
   "outputs": [
    {
     "data": {
      "image/png": "[encoded data removed]",
      "text/plain": [
       "<Figure size 432x288 with 1 Axes>"
      ]
     },
     "metadata": {
      "needs_background": "light"
     },
     "output_type": "display_data"
    }
   ],
   "source": [
    "## combined effect\n",
    "plt.imshow(cv2.cvtColor(img, cv2.COLOR_BGR2RGB))\n",
    "plt.show()"
   ]
  },
  {
   "cell_type": "markdown",
   "metadata": {},
   "source": [
    "## extracting countours"
   ]
  },
  {
   "cell_type": "code",
   "execution_count": 22,
   "metadata": {},
   "outputs": [
    {
     "data": {
      "image/png": "[encoded data removed]",
      "text/plain": [
       "<Figure size 432x288 with 1 Axes>"
      ]
     },
     "metadata": {
      "needs_background": "light"
     },
     "output_type": "display_data"
    }
   ],
   "source": [
    "## combined effect\n",
    "img = test_images[2]\n",
    "plt.imshow(cv2.cvtColor(img, cv2.COLOR_BGR2RGB))\n",
    "plt.show()"
   ]
  },
  {
   "cell_type": "code",
   "execution_count": 23,
   "metadata": {},
   "outputs": [
    {
     "data": {
      "text/plain": [
       "(206, 531, 3)"
      ]
     },
     "execution_count": 23,
     "metadata": {},
     "output_type": "execute_result"
    }
   ],
   "source": [
    "img.shape"
   ]
  },
  {
   "cell_type": "code",
   "execution_count": 24,
   "metadata": {},
   "outputs": [
    {
     "data": {
      "image/png": "[encoded data removed]",
      "text/plain": [
       "<Figure size 432x288 with 1 Axes>"
      ]
     },
     "metadata": {
      "needs_background": "light"
     },
     "output_type": "display_data"
    }
   ],
   "source": [
    "# grayscale\n",
    "gray = cv2.cvtColor(img, cv2.COLOR_BGR2GRAY)\n",
    "plt.imshow(cv2.cvtColor(gray, cv2.COLOR_BGR2RGB))\n",
    "plt.show()"
   ]
  },
  {
   "cell_type": "code",
   "execution_count": 25,
   "metadata": {},
   "outputs": [
    {
     "data": {
      "text/plain": [
       "(206, 531)"
      ]
     },
     "execution_count": 25,
     "metadata": {},
     "output_type": "execute_result"
    }
   ],
   "source": [
    "gray.shape"
   ]
  },
  {
   "cell_type": "code",
   "execution_count": 26,
   "metadata": {},
   "outputs": [],
   "source": [
    "ret, thresh = cv2.threshold(gray, 200, 255, 0)"
   ]
  },
  {
   "cell_type": "code",
   "execution_count": 27,
   "metadata": {},
   "outputs": [
    {
     "data": {
      "image/png": "[encoded data removed]",
      "text/plain": [
       "<Figure size 432x288 with 1 Axes>"
      ]
     },
     "metadata": {
      "needs_background": "light"
     },
     "output_type": "display_data"
    }
   ],
   "source": [
    "plt.imshow(cv2.cvtColor(thresh, cv2.COLOR_BGR2RGB))\n",
    "plt.show()"
   ]
  },
  {
   "cell_type": "code",
   "execution_count": 28,
   "metadata": {},
   "outputs": [
    {
     "data": {
      "text/plain": [
       "array([[  0,   0,   0, ...,   0,   0,   0],\n",
       "       [  0,   0,   0, ...,   0,   0,   0],\n",
       "       [  0,   0,   0, ...,   0,   0,   0],\n",
       "       ...,\n",
       "       [255, 255, 255, ..., 255, 255, 255],\n",
       "       [255, 255, 255, ..., 255, 255, 255],\n",
       "       [255, 255, 255, ..., 255, 255, 255]], dtype=uint8)"
      ]
     },
     "execution_count": 28,
     "metadata": {},
     "output_type": "execute_result"
    }
   ],
   "source": [
    "thresh"
   ]
  },
  {
   "cell_type": "code",
   "execution_count": 29,
   "metadata": {},
   "outputs": [],
   "source": [
    "contours, h = cv2.findContours(thresh, cv2.RETR_TREE, cv2.CHAIN_APPROX_SIMPLE)"
   ]
  },
  {
   "cell_type": "code",
   "execution_count": 30,
   "metadata": {},
   "outputs": [
    {
     "data": {
      "text/plain": [
       "4"
      ]
     },
     "execution_count": 30,
     "metadata": {},
     "output_type": "execute_result"
    }
   ],
   "source": [
    "len(contours)"
   ]
  },
  {
   "cell_type": "code",
   "execution_count": 31,
   "metadata": {},
   "outputs": [
    {
     "name": "stdout",
     "output_type": "stream",
     "text": [
      "(4, 1, 2)\n",
      "(4, 1, 2)\n",
      "(4, 1, 2)\n",
      "(4, 1, 2)\n"
     ]
    }
   ],
   "source": [
    "for cnt in contours:\n",
    "    print(cnt.shape)"
   ]
  },
  {
   "cell_type": "code",
   "execution_count": 32,
   "metadata": {},
   "outputs": [
    {
     "data": {
      "text/plain": [
       "array([[[  0,  92]],\n",
       "\n",
       "       [[  0, 205]],\n",
       "\n",
       "       [[ 14, 205]],\n",
       "\n",
       "       [[ 14,  92]]], dtype=int32)"
      ]
     },
     "execution_count": 32,
     "metadata": {},
     "output_type": "execute_result"
    }
   ],
   "source": [
    "contours[3]"
   ]
  },
  {
   "cell_type": "code",
   "execution_count": 33,
   "metadata": {},
   "outputs": [
    {
     "name": "stdout",
     "output_type": "stream",
     "text": [
      "0 [[[382 111]]\n",
      "\n",
      " [[382 200]]\n",
      "\n",
      " [[441 200]]\n",
      "\n",
      " [[441 111]]]\n",
      "1 [[[ 94 105]]\n",
      "\n",
      " [[ 94 153]]\n",
      "\n",
      " [[124 153]]\n",
      "\n",
      " [[124 105]]]\n",
      "2 [[[516  92]]\n",
      "\n",
      " [[516 205]]\n",
      "\n",
      " [[530 205]]\n",
      "\n",
      " [[530  92]]]\n",
      "3 [[[  0  92]]\n",
      "\n",
      " [[  0 205]]\n",
      "\n",
      " [[ 14 205]]\n",
      "\n",
      " [[ 14  92]]]\n"
     ]
    }
   ],
   "source": [
    "for i in range(len(contours)):\n",
    "    sides = cv2.approxPolyDP(contours[i],0.01*cv2.arcLength(contours[i],True),True)\n",
    "    print(i,sides)"
   ]
  },
  {
   "cell_type": "code",
   "execution_count": 34,
   "metadata": {},
   "outputs": [
    {
     "data": {
      "text/plain": [
       "92"
      ]
     },
     "execution_count": 34,
     "metadata": {},
     "output_type": "execute_result"
    }
   ],
   "source": [
    "sides[3][0][1]"
   ]
  },
  {
   "cell_type": "code",
   "execution_count": 35,
   "metadata": {},
   "outputs": [
    {
     "data": {
      "text/plain": [
       "14"
      ]
     },
     "execution_count": 35,
     "metadata": {},
     "output_type": "execute_result"
    }
   ],
   "source": [
    "sides[2][0][0]"
   ]
  },
  {
   "cell_type": "code",
   "execution_count": 36,
   "metadata": {},
   "outputs": [
    {
     "name": "stdout",
     "output_type": "stream",
     "text": [
      "0\n",
      "rectangle\n",
      "1\n",
      "rectangle\n",
      "2\n",
      "rectangle\n",
      "3\n",
      "rectangle\n"
     ]
    }
   ],
   "source": [
    "for i in range(len(contours)):\n",
    "    sides = cv2.approxPolyDP(contours[i],0.01*cv2.arcLength(contours[i],True),True)\n",
    "    print(i)\n",
    "    if len(sides)==5:\n",
    "        print (\"hexagon\")\n",
    "    if len(sides)==5:\n",
    "        print (\"pentagon\")\n",
    "    elif len(sides)==3:\n",
    "        print (\"triangle\")\n",
    "    elif len(sides)==4:\n",
    "        print (\"rectangle\")\n",
    "    elif len(sides) == 9:\n",
    "        print (\"half-circle\")\n",
    "    elif len(sides) > 15:\n",
    "        print (\"circle\")"
   ]
  },
  {
   "cell_type": "markdown",
   "metadata": {},
   "source": [
    "#### if the x value is extreme then we won't take that opening into account"
   ]
  },
  {
   "cell_type": "code",
   "execution_count": 40,
   "metadata": {},
   "outputs": [],
   "source": [
    "contour_img = cv2.drawContours(255*np.zeros(img.shape, dtype = 'uint8'), contours[1], -1, (0,255,0), 3)"
   ]
  },
  {
   "cell_type": "code",
   "execution_count": 41,
   "metadata": {},
   "outputs": [
    {
     "data": {
      "image/png": "[encoded data removed]",
      "text/plain": [
       "<Figure size 432x288 with 1 Axes>"
      ]
     },
     "metadata": {
      "needs_background": "light"
     },
     "output_type": "display_data"
    }
   ],
   "source": [
    "plt.imshow(cv2.cvtColor(contour_img, cv2.COLOR_BGR2RGB))\n",
    "plt.show()"
   ]
  },
  {
   "cell_type": "code",
   "execution_count": 42,
   "metadata": {},
   "outputs": [],
   "source": [
    "def count_openings(img):\n",
    "    gray = cv2.cvtColor(img, cv2.COLOR_BGR2GRAY)\n",
    "    height = gray.shape[0]\n",
    "    width = gray.shape[1]\n",
    "    \n",
    "    ret, thresh = cv2.threshold(gray, 200, 255, 0)\n",
    "    contours, h = cv2.findContours(thresh, cv2.RETR_TREE, cv2.CHAIN_APPROX_SIMPLE)\n",
    "    \n",
    "    quadrilaterals = []\n",
    "    for i in range(len(contours)):\n",
    "        polygon = cv2.approxPolyDP(contours[i],0.01*cv2.arcLength(contours[i],True),True)\n",
    "        if len(polygon) == 4:\n",
    "            quadrilaterals.append(polygon) \n",
    "            \n",
    "    redflag = [0]*len(quadrilaterals)\n",
    "    \n",
    "    for i in range(len(quadrilaterals)):\n",
    "        q = quadrilaterals[i]\n",
    "        for j in range(4):\n",
    "            if abs(q[j][0][0] - gray.shape[1]) < 5 or abs(q[j][0][0]) < 5:\n",
    "                redflag[i] = 1\n",
    "    \n",
    "    return (len(quadrilaterals) - np.sum(redflag))"
   ]
  },
  {
   "cell_type": "markdown",
   "metadata": {},
   "source": [
    "## testing"
   ]
  },
  {
   "cell_type": "code",
   "execution_count": 43,
   "metadata": {},
   "outputs": [],
   "source": [
    "test_images = []\n",
    "for i in range(10):\n",
    "    img = cv2.imread(path_generated_go+files_go[i])\n",
    "    test_images.append(img)"
   ]
  },
  {
   "cell_type": "code",
   "execution_count": 44,
   "metadata": {},
   "outputs": [
    {
     "data": {
      "image/png": "[encoded data removed]",
      "text/plain": [
       "<Figure size 432x288 with 1 Axes>"
      ]
     },
     "metadata": {
      "needs_background": "light"
     },
     "output_type": "display_data"
    },
    {
     "name": "stdout",
     "output_type": "stream",
     "text": [
      "number of openings =  1\n"
     ]
    }
   ],
   "source": [
    "plt.imshow(cv2.cvtColor(test_images[0], cv2.COLOR_BGR2RGB))\n",
    "plt.show()\n",
    "print(\"number of openings = \",count_openings(test_images[0]))"
   ]
  },
  {
   "cell_type": "code",
   "execution_count": 45,
   "metadata": {},
   "outputs": [
    {
     "data": {
      "image/png": "[encoded data removed]",
      "text/plain": [
       "<Figure size 432x288 with 1 Axes>"
      ]
     },
     "metadata": {
      "needs_background": "light"
     },
     "output_type": "display_data"
    },
    {
     "name": "stdout",
     "output_type": "stream",
     "text": [
      "number of openings =  1\n"
     ]
    }
   ],
   "source": [
    "plt.imshow(cv2.cvtColor(test_images[1], cv2.COLOR_BGR2RGB))\n",
    "plt.show()\n",
    "print(\"number of openings = \",count_openings(test_images[1]))"
   ]
  },
  {
   "cell_type": "code",
   "execution_count": 46,
   "metadata": {},
   "outputs": [
    {
     "data": {
      "image/png": "[encoded data removed]",
      "text/plain": [
       "<Figure size 432x288 with 1 Axes>"
      ]
     },
     "metadata": {
      "needs_background": "light"
     },
     "output_type": "display_data"
    },
    {
     "name": "stdout",
     "output_type": "stream",
     "text": [
      "number of openings =  2\n"
     ]
    }
   ],
   "source": [
    "plt.imshow(cv2.cvtColor(test_images[2], cv2.COLOR_BGR2RGB))\n",
    "plt.show()\n",
    "print(\"number of openings = \",count_openings(test_images[2]))"
   ]
  },
  {
   "cell_type": "code",
   "execution_count": 47,
   "metadata": {},
   "outputs": [
    {
     "data": {
      "image/png": "[encoded data removed]",
      "text/plain": [
       "<Figure size 432x288 with 1 Axes>"
      ]
     },
     "metadata": {
      "needs_background": "light"
     },
     "output_type": "display_data"
    },
    {
     "name": "stdout",
     "output_type": "stream",
     "text": [
      "number of openings =  4\n"
     ]
    }
   ],
   "source": [
    "plt.imshow(cv2.cvtColor(test_images[3], cv2.COLOR_BGR2RGB))\n",
    "plt.show()\n",
    "print(\"number of openings = \",count_openings(test_images[3]))"
   ]
  },
  {
   "cell_type": "code",
   "execution_count": 48,
   "metadata": {},
   "outputs": [
    {
     "data": {
      "image/png": "[encoded data removed]",
      "text/plain": [
       "<Figure size 432x288 with 1 Axes>"
      ]
     },
     "metadata": {
      "needs_background": "light"
     },
     "output_type": "display_data"
    },
    {
     "name": "stdout",
     "output_type": "stream",
     "text": [
      "number of openings =  2\n"
     ]
    }
   ],
   "source": [
    "plt.imshow(cv2.cvtColor(test_images[4], cv2.COLOR_BGR2RGB))\n",
    "plt.show()\n",
    "print(\"number of openings = \",count_openings(test_images[4]))"
   ]
  },
  {
   "cell_type": "code",
   "execution_count": 49,
   "metadata": {},
   "outputs": [
    {
     "data": {
      "image/png": "[encoded data removed]",
      "text/plain": [
       "<Figure size 432x288 with 1 Axes>"
      ]
     },
     "metadata": {
      "needs_background": "light"
     },
     "output_type": "display_data"
    },
    {
     "name": "stdout",
     "output_type": "stream",
     "text": [
      "number of openings =  1\n"
     ]
    }
   ],
   "source": [
    "plt.imshow(cv2.cvtColor(test_images[5], cv2.COLOR_BGR2RGB))\n",
    "plt.show()\n",
    "print(\"number of openings = \",count_openings(test_images[5]))"
   ]
  },
  {
   "cell_type": "code",
   "execution_count": 50,
   "metadata": {},
   "outputs": [
    {
     "data": {
      "image/png": "[encoded data removed]",
      "text/plain": [
       "<Figure size 432x288 with 1 Axes>"
      ]
     },
     "metadata": {
      "needs_background": "light"
     },
     "output_type": "display_data"
    },
    {
     "name": "stdout",
     "output_type": "stream",
     "text": [
      "number of openings =  6\n"
     ]
    }
   ],
   "source": [
    "plt.imshow(cv2.cvtColor(test_images[6], cv2.COLOR_BGR2RGB))\n",
    "plt.show()\n",
    "print(\"number of openings = \",count_openings(test_images[6]))"
   ]
  },
  {
   "cell_type": "code",
   "execution_count": 51,
   "metadata": {},
   "outputs": [
    {
     "data": {
      "image/png": "[encoded data removed]",
      "text/plain": [
       "<Figure size 432x288 with 1 Axes>"
      ]
     },
     "metadata": {
      "needs_background": "light"
     },
     "output_type": "display_data"
    },
    {
     "name": "stdout",
     "output_type": "stream",
     "text": [
      "number of openings =  1\n"
     ]
    }
   ],
   "source": [
    "plt.imshow(cv2.cvtColor(test_images[7], cv2.COLOR_BGR2RGB))\n",
    "plt.show()\n",
    "print(\"number of openings = \",count_openings(test_images[7]))"
   ]
  },
  {
   "cell_type": "code",
   "execution_count": 52,
   "metadata": {},
   "outputs": [
    {
     "data": {
      "image/png": "[encoded data removed]",
      "text/plain": [
       "<Figure size 432x288 with 1 Axes>"
      ]
     },
     "metadata": {
      "needs_background": "light"
     },
     "output_type": "display_data"
    },
    {
     "name": "stdout",
     "output_type": "stream",
     "text": [
      "number of openings =  3\n"
     ]
    }
   ],
   "source": [
    "plt.imshow(cv2.cvtColor(test_images[8], cv2.COLOR_BGR2RGB))\n",
    "plt.show()\n",
    "print(\"number of openings = \",count_openings(test_images[8]))"
   ]
  },
  {
   "cell_type": "code",
   "execution_count": 53,
   "metadata": {},
   "outputs": [
    {
     "data": {
      "image/png": "[encoded data removed]",
      "text/plain": [
       "<Figure size 432x288 with 1 Axes>"
      ]
     },
     "metadata": {
      "needs_background": "light"
     },
     "output_type": "display_data"
    },
    {
     "name": "stdout",
     "output_type": "stream",
     "text": [
      "number of openings =  6\n"
     ]
    }
   ],
   "source": [
    "plt.imshow(cv2.cvtColor(test_images[9], cv2.COLOR_BGR2RGB))\n",
    "plt.show()\n",
    "print(\"number of openings = \",count_openings(test_images[9]))"
   ]
  },
  {
   "cell_type": "markdown",
   "metadata": {},
   "source": [
    "## feature 2"
   ]
  },
  {
   "cell_type": "code",
   "execution_count": 54,
   "metadata": {},
   "outputs": [],
   "source": [
    "def fraction_width(img):\n",
    "    gray = cv2.cvtColor(img, cv2.COLOR_BGR2GRAY)\n",
    "    height = gray.shape[0]\n",
    "    width = gray.shape[1]\n",
    "    \n",
    "    ret, thresh = cv2.threshold(gray, 200, 255, 0)\n",
    "    contours, h = cv2.findContours(thresh, cv2.RETR_TREE, cv2.CHAIN_APPROX_SIMPLE)\n",
    "    \n",
    "    quadrilaterals = []\n",
    "    for i in range(len(contours)):\n",
    "        polygon = cv2.approxPolyDP(contours[i],0.01*cv2.arcLength(contours[i],True),True)\n",
    "        if len(polygon) == 4:\n",
    "            quadrilaterals.append(polygon) \n",
    "            \n",
    "    redflag = [0]*len(quadrilaterals)\n",
    "    \n",
    "    for i in range(len(quadrilaterals)):\n",
    "        q = quadrilaterals[i]\n",
    "        for j in range(4):\n",
    "            if abs(q[j][0][0] - gray.shape[1]) < 5 or abs(q[j][0][0]) < 5:\n",
    "                redflag[i] = 1\n",
    "    \n",
    "    detection_series = np.zeros(gray.shape[1], dtype = 'uint8')\n",
    "    \n",
    "    for i in range(len(quadrilaterals)):\n",
    "        q = quadrilaterals[i]\n",
    "        if redflag[i]!=1:\n",
    "            x_min = np.min(q[:,0,0])\n",
    "            x_max = np.max(q[:,0,0])\n",
    "            detection_series[x_min:x_max] = np.ones(x_max-x_min, dtype = 'uint8')\n",
    "    \n",
    "    return np.sum(detection_series)/gray.shape[1]"
   ]
  },
  {
   "cell_type": "code",
   "execution_count": 55,
   "metadata": {},
   "outputs": [
    {
     "data": {
      "image/png": "[encoded data removed]",
      "text/plain": [
       "<Figure size 432x288 with 1 Axes>"
      ]
     },
     "metadata": {
      "needs_background": "light"
     },
     "output_type": "display_data"
    },
    {
     "name": "stdout",
     "output_type": "stream",
     "text": [
      "fraction of width =  0.096045197740113\n"
     ]
    }
   ],
   "source": [
    "plt.imshow(cv2.cvtColor(test_images[0], cv2.COLOR_BGR2RGB))\n",
    "plt.show()\n",
    "print(\"fraction of width = \",fraction_width(test_images[0]))"
   ]
  },
  {
   "cell_type": "code",
   "execution_count": 56,
   "metadata": {},
   "outputs": [
    {
     "data": {
      "image/png": "[encoded data removed]",
      "text/plain": [
       "<Figure size 432x288 with 1 Axes>"
      ]
     },
     "metadata": {
      "needs_background": "light"
     },
     "output_type": "display_data"
    },
    {
     "name": "stdout",
     "output_type": "stream",
     "text": [
      "fraction of width =  0.10546139359698682\n"
     ]
    }
   ],
   "source": [
    "plt.imshow(cv2.cvtColor(test_images[1], cv2.COLOR_BGR2RGB))\n",
    "plt.show()\n",
    "print(\"fraction of width = \",fraction_width(test_images[1]))"
   ]
  },
  {
   "cell_type": "code",
   "execution_count": 57,
   "metadata": {},
   "outputs": [
    {
     "data": {
      "image/png": "[encoded data removed]",
      "text/plain": [
       "<Figure size 432x288 with 1 Axes>"
      ]
     },
     "metadata": {
      "needs_background": "light"
     },
     "output_type": "display_data"
    },
    {
     "name": "stdout",
     "output_type": "stream",
     "text": [
      "fraction of width =  0.16760828625235405\n"
     ]
    }
   ],
   "source": [
    "plt.imshow(cv2.cvtColor(test_images[2], cv2.COLOR_BGR2RGB))\n",
    "plt.show()\n",
    "print(\"fraction of width = \",fraction_width(test_images[2]))"
   ]
  },
  {
   "cell_type": "code",
   "execution_count": 58,
   "metadata": {},
   "outputs": [
    {
     "data": {
      "image/png": "[encoded data removed]",
      "text/plain": [
       "<Figure size 432x288 with 1 Axes>"
      ]
     },
     "metadata": {
      "needs_background": "light"
     },
     "output_type": "display_data"
    },
    {
     "name": "stdout",
     "output_type": "stream",
     "text": [
      "fraction of width =  0.26949152542372884\n"
     ]
    }
   ],
   "source": [
    "plt.imshow(cv2.cvtColor(test_images[3], cv2.COLOR_BGR2RGB))\n",
    "plt.show()\n",
    "print(\"fraction of width = \",fraction_width(test_images[3]))"
   ]
  },
  {
   "cell_type": "code",
   "execution_count": 59,
   "metadata": {},
   "outputs": [
    {
     "data": {
      "image/png": "[encoded data removed]",
      "text/plain": [
       "<Figure size 432x288 with 1 Axes>"
      ]
     },
     "metadata": {
      "needs_background": "light"
     },
     "output_type": "display_data"
    },
    {
     "name": "stdout",
     "output_type": "stream",
     "text": [
      "fraction of width =  0.1337099811676083\n"
     ]
    }
   ],
   "source": [
    "plt.imshow(cv2.cvtColor(test_images[4], cv2.COLOR_BGR2RGB))\n",
    "plt.show()\n",
    "print(\"fraction of width = \",fraction_width(test_images[4]))"
   ]
  },
  {
   "cell_type": "code",
   "execution_count": 60,
   "metadata": {},
   "outputs": [
    {
     "data": {
      "image/png": "[encoded data removed]",
      "text/plain": [
       "<Figure size 432x288 with 1 Axes>"
      ]
     },
     "metadata": {
      "needs_background": "light"
     },
     "output_type": "display_data"
    },
    {
     "name": "stdout",
     "output_type": "stream",
     "text": [
      "fraction of width =  0.11864406779661017\n"
     ]
    }
   ],
   "source": [
    "plt.imshow(cv2.cvtColor(test_images[5], cv2.COLOR_BGR2RGB))\n",
    "plt.show()\n",
    "print(\"fraction of width = \",fraction_width(test_images[5]))"
   ]
  },
  {
   "cell_type": "code",
   "execution_count": 61,
   "metadata": {},
   "outputs": [
    {
     "data": {
      "image/png": "[encoded data removed]",
      "text/plain": [
       "<Figure size 432x288 with 1 Axes>"
      ]
     },
     "metadata": {
      "needs_background": "light"
     },
     "output_type": "display_data"
    },
    {
     "name": "stdout",
     "output_type": "stream",
     "text": [
      "fraction of width =  0.33728813559322035\n"
     ]
    }
   ],
   "source": [
    "plt.imshow(cv2.cvtColor(test_images[6], cv2.COLOR_BGR2RGB))\n",
    "plt.show()\n",
    "print(\"fraction of width = \",fraction_width(test_images[6]))"
   ]
  },
  {
   "cell_type": "code",
   "execution_count": 62,
   "metadata": {},
   "outputs": [
    {
     "data": {
      "image/png": "[encoded data removed]",
      "text/plain": [
       "<Figure size 432x288 with 1 Axes>"
      ]
     },
     "metadata": {
      "needs_background": "light"
     },
     "output_type": "display_data"
    },
    {
     "name": "stdout",
     "output_type": "stream",
     "text": [
      "fraction of width =  0.06440677966101695\n"
     ]
    }
   ],
   "source": [
    "plt.imshow(cv2.cvtColor(test_images[7], cv2.COLOR_BGR2RGB))\n",
    "plt.show()\n",
    "print(\"fraction of width = \",fraction_width(test_images[7]))"
   ]
  },
  {
   "cell_type": "code",
   "execution_count": 63,
   "metadata": {},
   "outputs": [
    {
     "data": {
      "image/png": "[encoded data removed]",
      "text/plain": [
       "<Figure size 432x288 with 1 Axes>"
      ]
     },
     "metadata": {
      "needs_background": "light"
     },
     "output_type": "display_data"
    },
    {
     "name": "stdout",
     "output_type": "stream",
     "text": [
      "fraction of width =  0.2749529190207156\n"
     ]
    }
   ],
   "source": [
    "plt.imshow(cv2.cvtColor(test_images[8], cv2.COLOR_BGR2RGB))\n",
    "plt.show()\n",
    "print(\"fraction of width = \",fraction_width(test_images[8]))"
   ]
  },
  {
   "cell_type": "code",
   "execution_count": 64,
   "metadata": {},
   "outputs": [
    {
     "data": {
      "image/png": "[encoded data removed]",
      "text/plain": [
       "<Figure size 432x288 with 1 Axes>"
      ]
     },
     "metadata": {
      "needs_background": "light"
     },
     "output_type": "display_data"
    },
    {
     "name": "stdout",
     "output_type": "stream",
     "text": [
      "fraction of width =  0.3370998116760829\n"
     ]
    }
   ],
   "source": [
    "plt.imshow(cv2.cvtColor(test_images[9], cv2.COLOR_BGR2RGB))\n",
    "plt.show()\n",
    "print(\"fraction of width = \",fraction_width(test_images[9]))"
   ]
  },
  {
   "cell_type": "markdown",
   "metadata": {},
   "source": [
    "## feature 3"
   ]
  },
  {
   "cell_type": "code",
   "execution_count": 105,
   "metadata": {},
   "outputs": [],
   "source": [
    "def count_level(img):\n",
    "    gray=cv2.cvtColor(img,cv2.COLOR_BGR2GRAY)\n",
    "    shape = gray.shape\n",
    "    width = shape[1]\n",
    "    edges = cv2.Canny(gray, 80, 120)\n",
    "    lines = cv2.HoughLinesP(edges, rho = 1, theta = math.pi/2, minLineLength = 0.8*width, threshold = 1, maxLineGap = 3)\n",
    "    lines = lines.tolist()\n",
    "#     for i in lines:\n",
    "#         for j in lines:\n",
    "#             if j != i and abs(i[0][1]-j[0][1]) < 15:\n",
    "#                 lines.remove(j)\n",
    "    flags = [0]*len(lines)\n",
    "    for i in range(len(lines)):\n",
    "        for j in range(len(lines)):\n",
    "            if j < i and (abs(lines[i][0][1]-lines[j][0][1]) < 15):\n",
    "                flags[j] = 1\n",
    "        if abs(lines[i][0][1]-0) < 10:\n",
    "            flags[i] = 1\n",
    "    counter = 0\n",
    "    for i in range(len(flags)):\n",
    "        if flags[i] == 0:\n",
    "            counter += 1                \n",
    "    return counter"
   ]
  },
  {
   "cell_type": "code",
   "execution_count": 106,
   "metadata": {},
   "outputs": [
    {
     "data": {
      "image/png": "[encoded data removed]",
      "text/plain": [
       "<Figure size 432x288 with 1 Axes>"
      ]
     },
     "metadata": {
      "needs_background": "light"
     },
     "output_type": "display_data"
    },
    {
     "name": "stdout",
     "output_type": "stream",
     "text": [
      "number of levels =  1\n"
     ]
    }
   ],
   "source": [
    "plt.imshow(cv2.cvtColor(test_images[0], cv2.COLOR_BGR2RGB))\n",
    "plt.show()\n",
    "print(\"number of levels = \",count_level(test_images[0]))"
   ]
  },
  {
   "cell_type": "code",
   "execution_count": 101,
   "metadata": {},
   "outputs": [
    {
     "name": "stdout",
     "output_type": "stream",
     "text": [
      "[[[15, 90, 515, 90]], [[2, 92, 528, 92]], [[2, 87, 529, 87]], [[2, 1, 529, 1]]]\n"
     ]
    }
   ],
   "source": [
    "gray=cv2.cvtColor(test_images[0],cv2.COLOR_BGR2GRAY)\n",
    "shape = gray.shape\n",
    "width = shape[1]\n",
    "edges = cv2.Canny(gray, 80, 120)\n",
    "lines = cv2.HoughLinesP(edges, rho = 1, theta = math.pi/2, minLineLength = 0.8*width, threshold = 1, maxLineGap = 3)\n",
    "lines = lines.tolist()\n",
    "print(lines)"
   ]
  },
  {
   "cell_type": "code",
   "execution_count": 102,
   "metadata": {},
   "outputs": [
    {
     "name": "stdout",
     "output_type": "stream",
     "text": [
      "[1, 1, 0, 1]\n"
     ]
    }
   ],
   "source": [
    "flags = [0]*len(lines)\n",
    "for i in range(len(lines)):\n",
    "    for j in range(len(lines)):\n",
    "        if j < i and (abs(lines[i][0][1]-lines[j][0][1]) < 15):\n",
    "            flags[j] = 1\n",
    "    if abs(lines[i][0][1]-0) < 10:\n",
    "        flags[i] = 1\n",
    "counter = 0\n",
    "for i in range(len(flags)):\n",
    "    if flags[i] == 0:\n",
    "        counter += 1"
   ]
  },
  {
   "cell_type": "code",
   "execution_count": 107,
   "metadata": {},
   "outputs": [
    {
     "data": {
      "image/png": "[encoded data removed]",
      "text/plain": [
       "<Figure size 432x288 with 1 Axes>"
      ]
     },
     "metadata": {
      "needs_background": "light"
     },
     "output_type": "display_data"
    },
    {
     "name": "stdout",
     "output_type": "stream",
     "text": [
      "number of levels =  1\n"
     ]
    }
   ],
   "source": [
    "plt.imshow(cv2.cvtColor(test_images[1], cv2.COLOR_BGR2RGB))\n",
    "plt.show()\n",
    "print(\"number of levels = \",count_level(test_images[1]))"
   ]
  },
  {
   "cell_type": "code",
   "execution_count": 103,
   "metadata": {},
   "outputs": [
    {
     "name": "stdout",
     "output_type": "stream",
     "text": [
      "[[[14, 92, 516, 92]], [[0, 87, 530, 87]], [[16, 90, 514, 90]]]\n"
     ]
    }
   ],
   "source": [
    "gray=cv2.cvtColor(test_images[1],cv2.COLOR_BGR2GRAY)\n",
    "shape = gray.shape\n",
    "width = shape[1]\n",
    "edges = cv2.Canny(gray, 80, 120)\n",
    "lines = cv2.HoughLinesP(edges, rho = 1, theta = math.pi/2, minLineLength = 0.8*width, threshold = 1, maxLineGap = 3)\n",
    "lines = lines.tolist()\n",
    "print(lines)"
   ]
  },
  {
   "cell_type": "code",
   "execution_count": 104,
   "metadata": {},
   "outputs": [
    {
     "name": "stdout",
     "output_type": "stream",
     "text": [
      "[1, 1, 0]\n"
     ]
    }
   ],
   "source": [
    "flags = [0]*len(lines)\n",
    "for i in range(len(lines)):\n",
    "    for j in range(len(lines)):\n",
    "        if j < i and (abs(lines[i][0][1]-lines[j][0][1]) < 15):\n",
    "            flags[j] = 1\n",
    "    if abs(lines[i][0][1]-0) < 10:\n",
    "        flags[i] = 1\n",
    "print(flags)"
   ]
  },
  {
   "cell_type": "code",
   "execution_count": 108,
   "metadata": {},
   "outputs": [
    {
     "data": {
      "image/png": "[encoded data removed]",
      "text/plain": [
       "<Figure size 432x288 with 1 Axes>"
      ]
     },
     "metadata": {
      "needs_background": "light"
     },
     "output_type": "display_data"
    },
    {
     "name": "stdout",
     "output_type": "stream",
     "text": [
      "number of levels =  1\n"
     ]
    }
   ],
   "source": [
    "plt.imshow(cv2.cvtColor(test_images[2], cv2.COLOR_BGR2RGB))\n",
    "plt.show()\n",
    "print(\"number of levels = \",count_level(test_images[2]))"
   ]
  },
  {
   "cell_type": "code",
   "execution_count": 109,
   "metadata": {},
   "outputs": [
    {
     "data": {
      "image/png": "[encoded data removed]",
      "text/plain": [
       "<Figure size 432x288 with 1 Axes>"
      ]
     },
     "metadata": {
      "needs_background": "light"
     },
     "output_type": "display_data"
    },
    {
     "name": "stdout",
     "output_type": "stream",
     "text": [
      "number of levels =  3\n"
     ]
    }
   ],
   "source": [
    "plt.imshow(cv2.cvtColor(test_images[3], cv2.COLOR_BGR2RGB))\n",
    "plt.show()\n",
    "print(\"number of levels = \",count_level(test_images[3]))"
   ]
  },
  {
   "cell_type": "code",
   "execution_count": 110,
   "metadata": {},
   "outputs": [
    {
     "data": {
      "image/png": "[encoded data removed]",
      "text/plain": [
       "<Figure size 432x288 with 1 Axes>"
      ]
     },
     "metadata": {
      "needs_background": "light"
     },
     "output_type": "display_data"
    },
    {
     "name": "stdout",
     "output_type": "stream",
     "text": [
      "number of levels =  2\n"
     ]
    }
   ],
   "source": [
    "plt.imshow(cv2.cvtColor(test_images[4], cv2.COLOR_BGR2RGB))\n",
    "plt.show()\n",
    "print(\"number of levels = \",count_level(test_images[4]))"
   ]
  },
  {
   "cell_type": "code",
   "execution_count": 111,
   "metadata": {},
   "outputs": [
    {
     "data": {
      "image/png": "[encoded data removed]",
      "text/plain": [
       "<Figure size 432x288 with 1 Axes>"
      ]
     },
     "metadata": {
      "needs_background": "light"
     },
     "output_type": "display_data"
    },
    {
     "name": "stdout",
     "output_type": "stream",
     "text": [
      "number of levels =  1\n"
     ]
    }
   ],
   "source": [
    "plt.imshow(cv2.cvtColor(test_images[5], cv2.COLOR_BGR2RGB))\n",
    "plt.show()\n",
    "print(\"number of levels = \",count_level(test_images[5]))"
   ]
  },
  {
   "cell_type": "code",
   "execution_count": 112,
   "metadata": {},
   "outputs": [
    {
     "data": {
      "image/png": "[encoded data removed]",
      "text/plain": [
       "<Figure size 432x288 with 1 Axes>"
      ]
     },
     "metadata": {
      "needs_background": "light"
     },
     "output_type": "display_data"
    },
    {
     "name": "stdout",
     "output_type": "stream",
     "text": [
      "number of levels =  3\n"
     ]
    }
   ],
   "source": [
    "plt.imshow(cv2.cvtColor(test_images[6], cv2.COLOR_BGR2RGB))\n",
    "plt.show()\n",
    "print(\"number of levels = \",count_level(test_images[6]))"
   ]
  },
  {
   "cell_type": "code",
   "execution_count": 113,
   "metadata": {},
   "outputs": [
    {
     "data": {
      "image/png": "[encoded data removed]",
      "text/plain": [
       "<Figure size 432x288 with 1 Axes>"
      ]
     },
     "metadata": {
      "needs_background": "light"
     },
     "output_type": "display_data"
    },
    {
     "name": "stdout",
     "output_type": "stream",
     "text": [
      "number of levels =  1\n"
     ]
    }
   ],
   "source": [
    "plt.imshow(cv2.cvtColor(test_images[7], cv2.COLOR_BGR2RGB))\n",
    "plt.show()\n",
    "print(\"number of levels = \",count_level(test_images[7]))"
   ]
  },
  {
   "cell_type": "code",
   "execution_count": 114,
   "metadata": {},
   "outputs": [
    {
     "data": {
      "image/png": "[encoded data removed]",
      "text/plain": [
       "<Figure size 432x288 with 1 Axes>"
      ]
     },
     "metadata": {
      "needs_background": "light"
     },
     "output_type": "display_data"
    },
    {
     "name": "stdout",
     "output_type": "stream",
     "text": [
      "number of levels =  2\n"
     ]
    }
   ],
   "source": [
    "plt.imshow(cv2.cvtColor(test_images[8], cv2.COLOR_BGR2RGB))\n",
    "plt.show()\n",
    "print(\"number of levels = \",count_level(test_images[8]))"
   ]
  },
  {
   "cell_type": "code",
   "execution_count": 115,
   "metadata": {},
   "outputs": [
    {
     "data": {
      "image/png": "[encoded data removed]",
      "text/plain": [
       "<Figure size 432x288 with 1 Axes>"
      ]
     },
     "metadata": {
      "needs_background": "light"
     },
     "output_type": "display_data"
    },
    {
     "name": "stdout",
     "output_type": "stream",
     "text": [
      "number of levels =  3\n"
     ]
    }
   ],
   "source": [
    "plt.imshow(cv2.cvtColor(test_images[9], cv2.COLOR_BGR2RGB))\n",
    "plt.show()\n",
    "print(\"number of levels = \",count_level(test_images[9]))"
   ]
  },
  {
   "cell_type": "code",
   "execution_count": null,
   "metadata": {},
   "outputs": [],
   "source": []
  }
 ],
 "metadata": {
  "kernelspec": {
   "display_name": "Python [conda env:build_change]",
   "language": "python",
   "name": "conda-env-build_change-py"
  },
  "language_info": {
   "codemirror_mode": {
    "name": "ipython",
    "version": 3
   },
   "file_extension": ".py",
   "mimetype": "text/x-python",
   "name": "python",
   "nbconvert_exporter": "python",
   "pygments_lexer": "ipython3",
   "version": "3.6.7"
  }
 },
 "nbformat": 4,
 "nbformat_minor": 2
}
