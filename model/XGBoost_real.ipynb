{
 "cells": [
  {
   "cell_type": "code",
   "execution_count": 1,
   "metadata": {},
   "outputs": [],
   "source": [
    "# Import packages\n",
    "import matplotlib.pyplot as plt\n",
    "import numpy as np\n",
    "import pandas as pd\n",
    "from os import listdir\n",
    "import cv2\n",
    "import math\n",
    "from sklearn import preprocessing\n",
    "from sklearn.linear_model import LogisticRegression\n",
    "from sklearn.preprocessing import StandardScaler\n",
    "from sklearn.model_selection import train_test_split\n",
    "from sklearn.model_selection import GridSearchCV\n",
    "from sklearn.metrics import confusion_matrix\n",
    "from sklearn import metrics\n",
    "import xgboost as xgb\n",
    "from sklearn.preprocessing import LabelEncoder\n",
    "from sklearn import model_selection\n",
    "from sklearn.metrics import accuracy_score\n",
    "from sklearn.model_selection import train_test_split\n",
    "from xgboost import plot_importance\n",
    "from copy import copy\n",
    "from collections import Counter\n",
    "from tqdm import tqdm"
   ]
  },
  {
   "cell_type": "markdown",
   "metadata": {},
   "source": [
    "### The data is stored inside the 'team' directory"
   ]
  },
  {
   "cell_type": "code",
   "execution_count": 2,
   "metadata": {},
   "outputs": [],
   "source": [
    "path = '../../team/courses/MSiA400/GrandTeton'"
   ]
  },
  {
   "cell_type": "code",
   "execution_count": 3,
   "metadata": {},
   "outputs": [],
   "source": [
    "path_real = path + '/Photos-20191017T195907Z-001/Photos/'\n",
    "path_generated_go = path + '/GO_noGO Data Set_Images/TestGo/'\n",
    "path_generated_nogo = path + '/GO_noGO Data Set_Images/TestNoGo/'\n",
    "\n",
    "# Set path for training images\n",
    "filepaths_go = [f for f in listdir(path_generated_go) if f.endswith('.png')]\n",
    "filepaths_nogo = [f for f in listdir(path_generated_nogo) if f.endswith('.png')]"
   ]
  },
  {
   "cell_type": "code",
   "execution_count": 4,
   "metadata": {},
   "outputs": [
    {
     "name": "stderr",
     "output_type": "stream",
     "text": [
      "100%|██████████| 192/192 [00:41<00:00,  4.57it/s]\n"
     ]
    }
   ],
   "source": [
    "# Read all real images into a list\n",
    "filepaths_real = [f for f in listdir(path_real) if f.endswith('.jpg')]\n",
    "list_img_real = []\n",
    "for i in tqdm(filepaths_real):\n",
    "    list_img_real.append(cv2.imread(path_real + i))"
   ]
  },
  {
   "cell_type": "code",
   "execution_count": 5,
   "metadata": {},
   "outputs": [
    {
     "data": {
      "text/plain": [
       "192"
      ]
     },
     "execution_count": 5,
     "metadata": {},
     "output_type": "execute_result"
    }
   ],
   "source": [
    "n = len(list_img_real)\n",
    "n"
   ]
  },
  {
   "cell_type": "code",
   "execution_count": 6,
   "metadata": {},
   "outputs": [
    {
     "name": "stderr",
     "output_type": "stream",
     "text": [
      "100%|██████████| 3370/3370 [00:19<00:00, 173.70it/s]\n"
     ]
    }
   ],
   "source": [
    "# Read all GO and NoGO images into a list\n",
    "list_img = []\n",
    "for i in tqdm(filepaths_go):\n",
    "    list_img.append(cv2.imread(path_generated_go + i))"
   ]
  },
  {
   "cell_type": "code",
   "execution_count": 7,
   "metadata": {},
   "outputs": [
    {
     "name": "stderr",
     "output_type": "stream",
     "text": [
      "100%|██████████| 5001/5001 [00:30<00:00, 162.88it/s]\n"
     ]
    }
   ],
   "source": [
    "for i in tqdm(filepaths_nogo):\n",
    "    list_img.append(cv2.imread(path_generated_nogo + i))"
   ]
  },
  {
   "cell_type": "code",
   "execution_count": 8,
   "metadata": {},
   "outputs": [
    {
     "data": {
      "text/plain": [
       "8371"
      ]
     },
     "execution_count": 8,
     "metadata": {},
     "output_type": "execute_result"
    }
   ],
   "source": [
    "n_generated = len(list_img)\n",
    "n_generated"
   ]
  },
  {
   "cell_type": "markdown",
   "metadata": {},
   "source": [
    "### Feature Extraction class"
   ]
  },
  {
   "cell_type": "code",
   "execution_count": 9,
   "metadata": {},
   "outputs": [],
   "source": [
    "from Feature_Extractor_real import Feature_Extractor_Real\n",
    "## extracts 9 features from input image using opencv and other classical computer vision packages"
   ]
  },
  {
   "cell_type": "markdown",
   "metadata": {},
   "source": [
    "### Processing feature vectors for all the images"
   ]
  },
  {
   "cell_type": "code",
   "execution_count": 10,
   "metadata": {},
   "outputs": [],
   "source": [
    "feature_extractor = Feature_Extractor_Real()"
   ]
  },
  {
   "cell_type": "code",
   "execution_count": 11,
   "metadata": {},
   "outputs": [
    {
     "name": "stderr",
     "output_type": "stream",
     "text": [
      "100%|██████████| 192/192 [38:12<00:00, 11.94s/it]\n"
     ]
    }
   ],
   "source": [
    "# Create a list called 'levels' to store number of floors for each building\n",
    "levels = []\n",
    "for i in tqdm(range(n)):\n",
    "    n_level = feature_extractor.count_level(list_img_real[i])\n",
    "    levels.append(n_level)"
   ]
  },
  {
   "cell_type": "code",
   "execution_count": 12,
   "metadata": {},
   "outputs": [
    {
     "data": {
      "text/plain": [
       "Counter({3: 5, 1: 98, 2: 87, 4: 2})"
      ]
     },
     "execution_count": 12,
     "metadata": {},
     "output_type": "execute_result"
    }
   ],
   "source": [
    "Counter(levels)"
   ]
  },
  {
   "cell_type": "code",
   "execution_count": 13,
   "metadata": {},
   "outputs": [
    {
     "name": "stderr",
     "output_type": "stream",
     "text": [
      "100%|██████████| 192/192 [30:06<00:00,  9.41s/it]\n"
     ]
    }
   ],
   "source": [
    "# Create a list called 'openings' to store number of openings\n",
    "openings = []\n",
    "for i in tqdm(range(n)):\n",
    "    openings.append(feature_extractor.count_openings(list_img_real[i]))"
   ]
  },
  {
   "cell_type": "code",
   "execution_count": 14,
   "metadata": {},
   "outputs": [
    {
     "data": {
      "text/plain": [
       "Counter({8: 14,\n",
       "         2: 15,\n",
       "         0: 5,\n",
       "         5: 26,\n",
       "         6: 26,\n",
       "         1: 10,\n",
       "         10: 8,\n",
       "         7: 16,\n",
       "         3: 23,\n",
       "         9: 10,\n",
       "         4: 32,\n",
       "         12: 1,\n",
       "         13: 2,\n",
       "         11: 2,\n",
       "         17: 1,\n",
       "         14: 1})"
      ]
     },
     "execution_count": 14,
     "metadata": {},
     "output_type": "execute_result"
    }
   ],
   "source": [
    "Counter(openings)"
   ]
  },
  {
   "cell_type": "code",
   "execution_count": 15,
   "metadata": {},
   "outputs": [
    {
     "name": "stderr",
     "output_type": "stream",
     "text": [
      "100%|██████████| 192/192 [29:21<00:00,  9.18s/it]\n"
     ]
    }
   ],
   "source": [
    "# Create a list called 'fraction_widths' to store proportion of sum of all windows' widths (without overlap), (on all floors) \n",
    "# to the overall width of building\n",
    "fraction_widths = []\n",
    "for i in tqdm(range(len(list_img_real))):\n",
    "    fraction_widths.append(feature_extractor.fraction_width(list_img_real[i]))"
   ]
  },
  {
   "cell_type": "code",
   "execution_count": 16,
   "metadata": {},
   "outputs": [
    {
     "name": "stderr",
     "output_type": "stream",
     "text": [
      "100%|██████████| 192/192 [1:04:23<00:00, 20.12s/it]\n"
     ]
    }
   ],
   "source": [
    "# Create a list called 'avg_fraction_widths' to store proportion of average of all windows' widths (over all floors) \n",
    "# to the overall width of building\n",
    "avg_fraction_widths = []\n",
    "for i in tqdm(range(len(list_img_real))):\n",
    "    avg_fraction_widths.append(feature_extractor.avg_fraction_width(list_img_real[i]))"
   ]
  },
  {
   "cell_type": "code",
   "execution_count": 29,
   "metadata": {},
   "outputs": [
    {
     "name": "stderr",
     "output_type": "stream",
     "text": [
      "100%|██████████| 192/192 [29:20<00:00,  9.17s/it]\n"
     ]
    }
   ],
   "source": [
    "# Create a list called 'fraction_heights' to store proportion of sum of all windows' heights (without overlap), on all floors \n",
    "# to the overall height of building\n",
    "fraction_heights = []\n",
    "for i in tqdm(range(len(list_img_real))):\n",
    "    fraction_heights.append(feature_extractor.fraction_height(list_img_real[i]))"
   ]
  },
  {
   "cell_type": "code",
   "execution_count": 30,
   "metadata": {},
   "outputs": [
    {
     "name": "stderr",
     "output_type": "stream",
     "text": [
      "100%|██████████| 192/192 [28:41<00:00,  8.97s/it]\n"
     ]
    }
   ],
   "source": [
    "# Create a list called 'aggregate_fraction_heights' to store proportion of sum of all windows' heights (on all floors) \n",
    "# to the overall height of building\n",
    "aggregate_fraction_heights = []\n",
    "for i in tqdm(range(len(list_img_real))):\n",
    "    aggregate_fraction_heights.append(feature_extractor.aggregate_fraction_height(list_img_real[i]))"
   ]
  },
  {
   "cell_type": "code",
   "execution_count": 27,
   "metadata": {},
   "outputs": [
    {
     "name": "stderr",
     "output_type": "stream",
     "text": [
      "100%|██████████| 192/192 [00:00<00:00, 274193.52it/s]\n"
     ]
    }
   ],
   "source": [
    "# Create a list called 'img_widths' to store the pixel widths of all images\n",
    "img_widths = []\n",
    "for i in tqdm(range(len(list_img_real))):\n",
    "    img_widths.append(feature_extractor.img_width(list_img_real[i]))"
   ]
  },
  {
   "cell_type": "code",
   "execution_count": 28,
   "metadata": {},
   "outputs": [
    {
     "name": "stderr",
     "output_type": "stream",
     "text": [
      "100%|██████████| 192/192 [00:00<00:00, 519887.91it/s]\n"
     ]
    }
   ],
   "source": [
    "# Create a list called 'img_heights' to store the pixel widths of all images\n",
    "img_heights = []\n",
    "for i in tqdm(range(len(list_img_real))):\n",
    "    img_heights.append(feature_extractor.img_height(list_img_real[i]))"
   ]
  },
  {
   "cell_type": "code",
   "execution_count": 26,
   "metadata": {},
   "outputs": [
    {
     "name": "stderr",
     "output_type": "stream",
     "text": [
      "100%|██████████| 192/192 [29:42<00:00,  9.28s/it]\n"
     ]
    }
   ],
   "source": [
    "# Create a list called 'img_heights' to store the pixel widths of all images\n",
    "fraction_areas = []\n",
    "for i in tqdm(range(len(list_img_real))):\n",
    "    fraction_areas.append(feature_extractor.fraction_area(list_img_real[i]))"
   ]
  },
  {
   "cell_type": "code",
   "execution_count": 31,
   "metadata": {},
   "outputs": [],
   "source": [
    "# Create a a dataframe with all features and image index as columns\n",
    "dic = {\"filename\":filepaths_real, \"levels\":levels, \"openings\":openings, \"fraction_areas\":fraction_areas, \"fraction_widths\":fraction_widths, \n",
    "       \"avg_fraction_widths\":avg_fraction_widths, \"fraction_heights\":fraction_heights, \n",
    "       \"aggregate_fraction_heights\":aggregate_fraction_heights, \"img_widths\":img_widths, \"img_heights\":img_heights}\n",
    "df = pd.DataFrame(dic)"
   ]
  },
  {
   "cell_type": "code",
   "execution_count": 11,
   "metadata": {},
   "outputs": [
    {
     "data": {
      "text/html": [
       "<div>\n",
       "<style scoped>\n",
       "    .dataframe tbody tr th:only-of-type {\n",
       "        vertical-align: middle;\n",
       "    }\n",
       "\n",
       "    .dataframe tbody tr th {\n",
       "        vertical-align: top;\n",
       "    }\n",
       "\n",
       "    .dataframe thead th {\n",
       "        text-align: right;\n",
       "    }\n",
       "</style>\n",
       "<table border=\"1\" class=\"dataframe\">\n",
       "  <thead>\n",
       "    <tr style=\"text-align: right;\">\n",
       "      <th></th>\n",
       "      <th>filename</th>\n",
       "      <th>levels</th>\n",
       "      <th>openings</th>\n",
       "      <th>fraction_areas</th>\n",
       "      <th>fraction_widths</th>\n",
       "      <th>avg_fraction_widths</th>\n",
       "      <th>fraction_heights</th>\n",
       "      <th>aggregate_fraction_heights</th>\n",
       "      <th>img_widths</th>\n",
       "      <th>img_heights</th>\n",
       "    </tr>\n",
       "  </thead>\n",
       "  <tbody>\n",
       "    <tr>\n",
       "      <th>0</th>\n",
       "      <td>IMG_20180925_124211.jpg</td>\n",
       "      <td>3</td>\n",
       "      <td>8</td>\n",
       "      <td>0.090641</td>\n",
       "      <td>0.427885</td>\n",
       "      <td>0.331971</td>\n",
       "      <td>0.679487</td>\n",
       "      <td>1.115385</td>\n",
       "      <td>4160</td>\n",
       "      <td>3120</td>\n",
       "    </tr>\n",
       "    <tr>\n",
       "      <th>1</th>\n",
       "      <td>IMG_20180925_124235.jpg</td>\n",
       "      <td>1</td>\n",
       "      <td>2</td>\n",
       "      <td>0.006329</td>\n",
       "      <td>0.122115</td>\n",
       "      <td>0.122115</td>\n",
       "      <td>0.198317</td>\n",
       "      <td>0.198317</td>\n",
       "      <td>3120</td>\n",
       "      <td>4160</td>\n",
       "    </tr>\n",
       "    <tr>\n",
       "      <th>2</th>\n",
       "      <td>IMG_20180925_124409.jpg</td>\n",
       "      <td>1</td>\n",
       "      <td>0</td>\n",
       "      <td>0.000000</td>\n",
       "      <td>0.000000</td>\n",
       "      <td>0.000000</td>\n",
       "      <td>0.000000</td>\n",
       "      <td>0.000000</td>\n",
       "      <td>3120</td>\n",
       "      <td>4160</td>\n",
       "    </tr>\n",
       "    <tr>\n",
       "      <th>3</th>\n",
       "      <td>IMG_20180925_130015.jpg</td>\n",
       "      <td>2</td>\n",
       "      <td>5</td>\n",
       "      <td>0.046684</td>\n",
       "      <td>0.488942</td>\n",
       "      <td>0.357692</td>\n",
       "      <td>0.152564</td>\n",
       "      <td>0.430449</td>\n",
       "      <td>4160</td>\n",
       "      <td>3120</td>\n",
       "    </tr>\n",
       "    <tr>\n",
       "      <th>4</th>\n",
       "      <td>IMG_20180925_130219.jpg</td>\n",
       "      <td>2</td>\n",
       "      <td>6</td>\n",
       "      <td>0.100335</td>\n",
       "      <td>0.866346</td>\n",
       "      <td>0.941667</td>\n",
       "      <td>0.438462</td>\n",
       "      <td>0.690865</td>\n",
       "      <td>3120</td>\n",
       "      <td>4160</td>\n",
       "    </tr>\n",
       "  </tbody>\n",
       "</table>\n",
       "</div>"
      ],
      "text/plain": [
       "                  filename  levels  openings  fraction_areas  fraction_widths  \\\n",
       "0  IMG_20180925_124211.jpg       3         8        0.090641         0.427885   \n",
       "1  IMG_20180925_124235.jpg       1         2        0.006329         0.122115   \n",
       "2  IMG_20180925_124409.jpg       1         0        0.000000         0.000000   \n",
       "3  IMG_20180925_130015.jpg       2         5        0.046684         0.488942   \n",
       "4  IMG_20180925_130219.jpg       2         6        0.100335         0.866346   \n",
       "\n",
       "   avg_fraction_widths  fraction_heights  aggregate_fraction_heights  \\\n",
       "0             0.331971          0.679487                    1.115385   \n",
       "1             0.122115          0.198317                    0.198317   \n",
       "2             0.000000          0.000000                    0.000000   \n",
       "3             0.357692          0.152564                    0.430449   \n",
       "4             0.941667          0.438462                    0.690865   \n",
       "\n",
       "   img_widths  img_heights  \n",
       "0        4160         3120  \n",
       "1        3120         4160  \n",
       "2        3120         4160  \n",
       "3        4160         3120  \n",
       "4        3120         4160  "
      ]
     },
     "execution_count": 11,
     "metadata": {},
     "output_type": "execute_result"
    }
   ],
   "source": [
    "# df = pd.read_csv(\"features_real.csv\")\n",
    "# df = df.drop(df.columns[0], axis=1)\n",
    "df.head()"
   ]
  },
  {
   "cell_type": "code",
   "execution_count": 12,
   "metadata": {},
   "outputs": [
    {
     "data": {
      "text/html": [
       "<div>\n",
       "<style scoped>\n",
       "    .dataframe tbody tr th:only-of-type {\n",
       "        vertical-align: middle;\n",
       "    }\n",
       "\n",
       "    .dataframe tbody tr th {\n",
       "        vertical-align: top;\n",
       "    }\n",
       "\n",
       "    .dataframe thead th {\n",
       "        text-align: right;\n",
       "    }\n",
       "</style>\n",
       "<table border=\"1\" class=\"dataframe\">\n",
       "  <thead>\n",
       "    <tr style=\"text-align: right;\">\n",
       "      <th></th>\n",
       "      <th>levels</th>\n",
       "      <th>openings</th>\n",
       "      <th>fraction_areas</th>\n",
       "      <th>fraction_widths</th>\n",
       "      <th>avg_fraction_widths</th>\n",
       "      <th>fraction_heights</th>\n",
       "      <th>aggregate_fraction_heights</th>\n",
       "      <th>img_widths</th>\n",
       "      <th>img_heights</th>\n",
       "    </tr>\n",
       "  </thead>\n",
       "  <tbody>\n",
       "    <tr>\n",
       "      <th>count</th>\n",
       "      <td>192.000000</td>\n",
       "      <td>192.000000</td>\n",
       "      <td>192.000000</td>\n",
       "      <td>192.000000</td>\n",
       "      <td>192.000000</td>\n",
       "      <td>192.000000</td>\n",
       "      <td>192.000000</td>\n",
       "      <td>192.000000</td>\n",
       "      <td>192.000000</td>\n",
       "    </tr>\n",
       "    <tr>\n",
       "      <th>mean</th>\n",
       "      <td>1.536458</td>\n",
       "      <td>5.250000</td>\n",
       "      <td>0.057223</td>\n",
       "      <td>0.461793</td>\n",
       "      <td>0.475023</td>\n",
       "      <td>0.360751</td>\n",
       "      <td>0.685795</td>\n",
       "      <td>3640.000000</td>\n",
       "      <td>3640.000000</td>\n",
       "    </tr>\n",
       "    <tr>\n",
       "      <th>std</th>\n",
       "      <td>0.604281</td>\n",
       "      <td>2.877972</td>\n",
       "      <td>0.047251</td>\n",
       "      <td>0.221199</td>\n",
       "      <td>0.285315</td>\n",
       "      <td>0.221825</td>\n",
       "      <td>0.471451</td>\n",
       "      <td>521.359479</td>\n",
       "      <td>521.359479</td>\n",
       "    </tr>\n",
       "    <tr>\n",
       "      <th>min</th>\n",
       "      <td>1.000000</td>\n",
       "      <td>0.000000</td>\n",
       "      <td>0.000000</td>\n",
       "      <td>0.000000</td>\n",
       "      <td>0.000000</td>\n",
       "      <td>0.000000</td>\n",
       "      <td>0.000000</td>\n",
       "      <td>3120.000000</td>\n",
       "      <td>3120.000000</td>\n",
       "    </tr>\n",
       "    <tr>\n",
       "      <th>25%</th>\n",
       "      <td>1.000000</td>\n",
       "      <td>3.000000</td>\n",
       "      <td>0.022699</td>\n",
       "      <td>0.308894</td>\n",
       "      <td>0.295192</td>\n",
       "      <td>0.202163</td>\n",
       "      <td>0.350781</td>\n",
       "      <td>3120.000000</td>\n",
       "      <td>3120.000000</td>\n",
       "    </tr>\n",
       "    <tr>\n",
       "      <th>50%</th>\n",
       "      <td>1.000000</td>\n",
       "      <td>5.000000</td>\n",
       "      <td>0.043882</td>\n",
       "      <td>0.454367</td>\n",
       "      <td>0.433383</td>\n",
       "      <td>0.337540</td>\n",
       "      <td>0.594071</td>\n",
       "      <td>3640.000000</td>\n",
       "      <td>3640.000000</td>\n",
       "    </tr>\n",
       "    <tr>\n",
       "      <th>75%</th>\n",
       "      <td>2.000000</td>\n",
       "      <td>7.000000</td>\n",
       "      <td>0.078523</td>\n",
       "      <td>0.635156</td>\n",
       "      <td>0.626512</td>\n",
       "      <td>0.519892</td>\n",
       "      <td>0.914744</td>\n",
       "      <td>4160.000000</td>\n",
       "      <td>4160.000000</td>\n",
       "    </tr>\n",
       "    <tr>\n",
       "      <th>max</th>\n",
       "      <td>4.000000</td>\n",
       "      <td>17.000000</td>\n",
       "      <td>0.263593</td>\n",
       "      <td>0.866346</td>\n",
       "      <td>1.393910</td>\n",
       "      <td>0.911538</td>\n",
       "      <td>2.279167</td>\n",
       "      <td>4160.000000</td>\n",
       "      <td>4160.000000</td>\n",
       "    </tr>\n",
       "  </tbody>\n",
       "</table>\n",
       "</div>"
      ],
      "text/plain": [
       "           levels    openings  fraction_areas  fraction_widths  \\\n",
       "count  192.000000  192.000000      192.000000       192.000000   \n",
       "mean     1.536458    5.250000        0.057223         0.461793   \n",
       "std      0.604281    2.877972        0.047251         0.221199   \n",
       "min      1.000000    0.000000        0.000000         0.000000   \n",
       "25%      1.000000    3.000000        0.022699         0.308894   \n",
       "50%      1.000000    5.000000        0.043882         0.454367   \n",
       "75%      2.000000    7.000000        0.078523         0.635156   \n",
       "max      4.000000   17.000000        0.263593         0.866346   \n",
       "\n",
       "       avg_fraction_widths  fraction_heights  aggregate_fraction_heights  \\\n",
       "count           192.000000        192.000000                  192.000000   \n",
       "mean              0.475023          0.360751                    0.685795   \n",
       "std               0.285315          0.221825                    0.471451   \n",
       "min               0.000000          0.000000                    0.000000   \n",
       "25%               0.295192          0.202163                    0.350781   \n",
       "50%               0.433383          0.337540                    0.594071   \n",
       "75%               0.626512          0.519892                    0.914744   \n",
       "max               1.393910          0.911538                    2.279167   \n",
       "\n",
       "        img_widths  img_heights  \n",
       "count   192.000000   192.000000  \n",
       "mean   3640.000000  3640.000000  \n",
       "std     521.359479   521.359479  \n",
       "min    3120.000000  3120.000000  \n",
       "25%    3120.000000  3120.000000  \n",
       "50%    3640.000000  3640.000000  \n",
       "75%    4160.000000  4160.000000  \n",
       "max    4160.000000  4160.000000  "
      ]
     },
     "execution_count": 12,
     "metadata": {},
     "output_type": "execute_result"
    }
   ],
   "source": [
    "df.describe()"
   ]
  },
  {
   "cell_type": "code",
   "execution_count": 13,
   "metadata": {},
   "outputs": [],
   "source": [
    "df.to_csv(\"features_real.csv\")"
   ]
  },
  {
   "cell_type": "code",
   "execution_count": 13,
   "metadata": {},
   "outputs": [],
   "source": [
    "label_df = pd.read_csv(\"labels.csv\", header = None)"
   ]
  },
  {
   "cell_type": "code",
   "execution_count": 14,
   "metadata": {},
   "outputs": [],
   "source": [
    "z = zip(label_df[0],label_df[1])\n",
    "label_dict = dict(z)"
   ]
  },
  {
   "cell_type": "code",
   "execution_count": 15,
   "metadata": {},
   "outputs": [],
   "source": [
    "labels = []\n",
    "for i in range(192):\n",
    "    img_name  = df['filename'][i].split(\".\")[0]\n",
    "    labels.append(label_dict[img_name])"
   ]
  },
  {
   "cell_type": "markdown",
   "metadata": {},
   "source": [
    "### Training XGBoost on generated images"
   ]
  },
  {
   "cell_type": "markdown",
   "metadata": {},
   "source": [
    "### Feature Extraction class"
   ]
  },
  {
   "cell_type": "code",
   "execution_count": 16,
   "metadata": {},
   "outputs": [],
   "source": [
    "from Feature_Extractor_generated import Feature_Extractor\n",
    "## extracts 9 features from input image using opencv and other classical computer vision packages"
   ]
  },
  {
   "cell_type": "markdown",
   "metadata": {},
   "source": [
    "### Processing feature vectors for all the images"
   ]
  },
  {
   "cell_type": "code",
   "execution_count": 17,
   "metadata": {},
   "outputs": [],
   "source": [
    "feature_extractor_generated = Feature_Extractor()"
   ]
  },
  {
   "cell_type": "code",
   "execution_count": 18,
   "metadata": {},
   "outputs": [
    {
     "name": "stderr",
     "output_type": "stream",
     "text": [
      "100%|██████████| 8371/8371 [00:08<00:00, 937.71it/s]\n"
     ]
    }
   ],
   "source": [
    "# Create a list called 'levels' to store number of floors for each building\n",
    "levels = []\n",
    "for i in tqdm(range(n_generated)):\n",
    "    n_level = feature_extractor_generated.count_level(list_img[i])\n",
    "    levels.append(n_level)"
   ]
  },
  {
   "cell_type": "code",
   "execution_count": 19,
   "metadata": {},
   "outputs": [
    {
     "data": {
      "text/plain": [
       "Counter({1: 2037, 3: 3763, 2: 2536, 4: 35})"
      ]
     },
     "execution_count": 19,
     "metadata": {},
     "output_type": "execute_result"
    }
   ],
   "source": [
    "Counter(levels)"
   ]
  },
  {
   "cell_type": "code",
   "execution_count": 20,
   "metadata": {},
   "outputs": [
    {
     "name": "stderr",
     "output_type": "stream",
     "text": [
      "100%|██████████| 8371/8371 [00:05<00:00, 1438.64it/s]\n"
     ]
    }
   ],
   "source": [
    "# Create a list called 'openings' to store number of openings\n",
    "openings = []\n",
    "for i in tqdm(range(n_generated)):\n",
    "    openings.append(feature_extractor_generated.count_openings(list_img[i]))"
   ]
  },
  {
   "cell_type": "code",
   "execution_count": 21,
   "metadata": {},
   "outputs": [
    {
     "data": {
      "text/plain": [
       "Counter({1: 628,\n",
       "         2: 1475,\n",
       "         4: 1056,\n",
       "         6: 1791,\n",
       "         3: 1654,\n",
       "         5: 389,\n",
       "         7: 276,\n",
       "         9: 881,\n",
       "         8: 220,\n",
       "         0.0: 1})"
      ]
     },
     "execution_count": 21,
     "metadata": {},
     "output_type": "execute_result"
    }
   ],
   "source": [
    "Counter(openings)"
   ]
  },
  {
   "cell_type": "code",
   "execution_count": 22,
   "metadata": {},
   "outputs": [
    {
     "name": "stderr",
     "output_type": "stream",
     "text": [
      "100%|██████████| 8371/8371 [00:07<00:00, 1163.07it/s]\n"
     ]
    }
   ],
   "source": [
    "# Create a list called 'fraction_widths' to store proportion of sum of all windows' widths (without overlap), (on all floors) \n",
    "# to the overall width of building\n",
    "fraction_widths = []\n",
    "for i in tqdm(range(n_generated)):\n",
    "    fraction_widths.append(feature_extractor_generated.fraction_width(list_img[i]))"
   ]
  },
  {
   "cell_type": "code",
   "execution_count": 23,
   "metadata": {},
   "outputs": [
    {
     "name": "stderr",
     "output_type": "stream",
     "text": [
      "100%|██████████| 8371/8371 [00:15<00:00, 542.44it/s]\n"
     ]
    }
   ],
   "source": [
    "# Create a list called 'avg_fraction_widths' to store proportion of average of all windows' widths (over all floors) \n",
    "# to the overall width of building\n",
    "avg_fraction_widths = []\n",
    "for i in tqdm(range(len(list_img))):\n",
    "    avg_fraction_widths.append(feature_extractor_generated.avg_fraction_width(list_img[i]))"
   ]
  },
  {
   "cell_type": "code",
   "execution_count": 24,
   "metadata": {},
   "outputs": [
    {
     "name": "stderr",
     "output_type": "stream",
     "text": [
      "100%|██████████| 8371/8371 [00:06<00:00, 1229.78it/s]\n"
     ]
    }
   ],
   "source": [
    "# Create a list called 'fraction_heights' to store proportion of sum of all windows' heights (without overlap), on all floors \n",
    "# to the overall height of building\n",
    "fraction_heights = []\n",
    "for i in tqdm(range(len(list_img))):\n",
    "    fraction_heights.append(feature_extractor_generated.fraction_height(list_img[i]))"
   ]
  },
  {
   "cell_type": "code",
   "execution_count": 25,
   "metadata": {},
   "outputs": [
    {
     "name": "stderr",
     "output_type": "stream",
     "text": [
      "100%|██████████| 8371/8371 [00:06<00:00, 1332.67it/s]\n"
     ]
    }
   ],
   "source": [
    "# Create a list called 'aggregate_fraction_heights' to store proportion of sum of all windows' heights (on all floors) \n",
    "# to the overall height of building\n",
    "aggregate_fraction_heights = []\n",
    "for i in tqdm(range(len(list_img))):\n",
    "    aggregate_fraction_heights.append(feature_extractor_generated.aggregate_fraction_height(list_img[i]))"
   ]
  },
  {
   "cell_type": "code",
   "execution_count": 26,
   "metadata": {},
   "outputs": [
    {
     "name": "stderr",
     "output_type": "stream",
     "text": [
      "100%|██████████| 8371/8371 [00:00<00:00, 1040065.13it/s]\n"
     ]
    }
   ],
   "source": [
    "# Create a list called 'img_widths' to store the pixel widths of all images\n",
    "img_widths = []\n",
    "for i in tqdm(range(len(list_img))):\n",
    "    img_widths.append(feature_extractor_generated.img_width(list_img[i]))"
   ]
  },
  {
   "cell_type": "code",
   "execution_count": 27,
   "metadata": {},
   "outputs": [
    {
     "name": "stderr",
     "output_type": "stream",
     "text": [
      "100%|██████████| 8371/8371 [00:00<00:00, 1169298.26it/s]\n"
     ]
    }
   ],
   "source": [
    "# Create a list called 'img_heights' to store the pixel widths of all images\n",
    "img_heights = []\n",
    "for i in tqdm(range(len(list_img))):\n",
    "    img_heights.append(feature_extractor_generated.img_height(list_img[i]))"
   ]
  },
  {
   "cell_type": "code",
   "execution_count": 28,
   "metadata": {},
   "outputs": [
    {
     "name": "stderr",
     "output_type": "stream",
     "text": [
      "100%|██████████| 8371/8371 [00:05<00:00, 1407.28it/s]\n"
     ]
    }
   ],
   "source": [
    "# Create a list called 'img_heights' to store the pixel widths of all images\n",
    "fraction_areas = []\n",
    "for i in tqdm(range(len(list_img))):\n",
    "    fraction_areas.append(feature_extractor_generated.fraction_area(list_img[i]))"
   ]
  },
  {
   "cell_type": "code",
   "execution_count": 29,
   "metadata": {},
   "outputs": [
    {
     "data": {
      "text/plain": [
       "[1007, 1008, 1011, 1016, 1026, 103, 1031, 1039, 1047, 105]"
      ]
     },
     "execution_count": 29,
     "metadata": {},
     "output_type": "execute_result"
    }
   ],
   "source": [
    "# Extract image index (four digit number)\n",
    "files_go_idx = []\n",
    "for file in filepaths_go:\n",
    "    files_go_idx.append(int(file.split(\"Img\")[1].split(\".\")[0]))\n",
    "files_go_idx[:10]"
   ]
  },
  {
   "cell_type": "code",
   "execution_count": 30,
   "metadata": {},
   "outputs": [
    {
     "data": {
      "text/plain": [
       "[1, 10, 100, 1000, 1001, 1002, 1003, 1004, 1005, 1006]"
      ]
     },
     "execution_count": 30,
     "metadata": {},
     "output_type": "execute_result"
    }
   ],
   "source": [
    "files_nogo_idx = []\n",
    "for file in filepaths_nogo:\n",
    "    if \"Img\" in file:\n",
    "        files_nogo_idx.append(int(file.split(\"Img\")[1].split(\".\")[0]))\n",
    "files_nogo_idx[:10]"
   ]
  },
  {
   "cell_type": "code",
   "execution_count": 31,
   "metadata": {},
   "outputs": [],
   "source": [
    "files = files_go_idx + files_nogo_idx"
   ]
  },
  {
   "cell_type": "code",
   "execution_count": 32,
   "metadata": {},
   "outputs": [],
   "source": [
    "# Create a a dataframe with all features and image index as columns\n",
    "dic = {\"filename\":files, \"levels\":levels, \"openings\":openings, \"fraction_areas\":fraction_areas, \"fraction_widths\":fraction_widths, \n",
    "       \"avg_fraction_widths\":avg_fraction_widths, \"fraction_heights\":fraction_heights, \n",
    "       \"aggregate_fraction_heights\":aggregate_fraction_heights, \"img_widths\":img_widths, \"img_heights\":img_heights}\n",
    "df_generated = pd.DataFrame(dic)"
   ]
  },
  {
   "cell_type": "code",
   "execution_count": 33,
   "metadata": {},
   "outputs": [
    {
     "data": {
      "text/html": [
       "<div>\n",
       "<style scoped>\n",
       "    .dataframe tbody tr th:only-of-type {\n",
       "        vertical-align: middle;\n",
       "    }\n",
       "\n",
       "    .dataframe tbody tr th {\n",
       "        vertical-align: top;\n",
       "    }\n",
       "\n",
       "    .dataframe thead th {\n",
       "        text-align: right;\n",
       "    }\n",
       "</style>\n",
       "<table border=\"1\" class=\"dataframe\">\n",
       "  <thead>\n",
       "    <tr style=\"text-align: right;\">\n",
       "      <th></th>\n",
       "      <th>filename</th>\n",
       "      <th>levels</th>\n",
       "      <th>openings</th>\n",
       "      <th>fraction_areas</th>\n",
       "      <th>fraction_widths</th>\n",
       "      <th>avg_fraction_widths</th>\n",
       "      <th>fraction_heights</th>\n",
       "      <th>aggregate_fraction_heights</th>\n",
       "      <th>img_widths</th>\n",
       "      <th>img_heights</th>\n",
       "    </tr>\n",
       "  </thead>\n",
       "  <tbody>\n",
       "    <tr>\n",
       "      <th>0</th>\n",
       "      <td>1007</td>\n",
       "      <td>1</td>\n",
       "      <td>1.0</td>\n",
       "      <td>0.028925</td>\n",
       "      <td>0.096045</td>\n",
       "      <td>0.096045</td>\n",
       "      <td>0.407767</td>\n",
       "      <td>0.407767</td>\n",
       "      <td>531</td>\n",
       "      <td>206</td>\n",
       "    </tr>\n",
       "    <tr>\n",
       "      <th>1</th>\n",
       "      <td>1008</td>\n",
       "      <td>1</td>\n",
       "      <td>1.0</td>\n",
       "      <td>0.027588</td>\n",
       "      <td>0.105461</td>\n",
       "      <td>0.105461</td>\n",
       "      <td>0.432990</td>\n",
       "      <td>0.432990</td>\n",
       "      <td>531</td>\n",
       "      <td>194</td>\n",
       "    </tr>\n",
       "    <tr>\n",
       "      <th>2</th>\n",
       "      <td>1011</td>\n",
       "      <td>1</td>\n",
       "      <td>2.0</td>\n",
       "      <td>0.028925</td>\n",
       "      <td>0.167608</td>\n",
       "      <td>0.167608</td>\n",
       "      <td>0.461165</td>\n",
       "      <td>0.665049</td>\n",
       "      <td>531</td>\n",
       "      <td>206</td>\n",
       "    </tr>\n",
       "    <tr>\n",
       "      <th>3</th>\n",
       "      <td>1016</td>\n",
       "      <td>3</td>\n",
       "      <td>4.0</td>\n",
       "      <td>0.033021</td>\n",
       "      <td>0.269492</td>\n",
       "      <td>0.089831</td>\n",
       "      <td>0.336927</td>\n",
       "      <td>0.412399</td>\n",
       "      <td>590</td>\n",
       "      <td>371</td>\n",
       "    </tr>\n",
       "    <tr>\n",
       "      <th>4</th>\n",
       "      <td>1026</td>\n",
       "      <td>2</td>\n",
       "      <td>2.0</td>\n",
       "      <td>0.034910</td>\n",
       "      <td>0.133710</td>\n",
       "      <td>0.097928</td>\n",
       "      <td>0.410494</td>\n",
       "      <td>0.410494</td>\n",
       "      <td>531</td>\n",
       "      <td>324</td>\n",
       "    </tr>\n",
       "  </tbody>\n",
       "</table>\n",
       "</div>"
      ],
      "text/plain": [
       "   filename  levels  openings  fraction_areas  fraction_widths  \\\n",
       "0      1007       1       1.0        0.028925         0.096045   \n",
       "1      1008       1       1.0        0.027588         0.105461   \n",
       "2      1011       1       2.0        0.028925         0.167608   \n",
       "3      1016       3       4.0        0.033021         0.269492   \n",
       "4      1026       2       2.0        0.034910         0.133710   \n",
       "\n",
       "   avg_fraction_widths  fraction_heights  aggregate_fraction_heights  \\\n",
       "0             0.096045          0.407767                    0.407767   \n",
       "1             0.105461          0.432990                    0.432990   \n",
       "2             0.167608          0.461165                    0.665049   \n",
       "3             0.089831          0.336927                    0.412399   \n",
       "4             0.097928          0.410494                    0.410494   \n",
       "\n",
       "   img_widths  img_heights  \n",
       "0         531          206  \n",
       "1         531          194  \n",
       "2         531          206  \n",
       "3         590          371  \n",
       "4         531          324  "
      ]
     },
     "execution_count": 33,
     "metadata": {},
     "output_type": "execute_result"
    }
   ],
   "source": [
    "df_generated.head()"
   ]
  },
  {
   "cell_type": "code",
   "execution_count": 34,
   "metadata": {},
   "outputs": [],
   "source": [
    "# Add GO/NoGo column to label each image\n",
    "df_generated['Go/NoGo']=df_generated['filename'].apply(lambda x: 1 if x in files_go_idx else 0)"
   ]
  },
  {
   "cell_type": "code",
   "execution_count": 35,
   "metadata": {},
   "outputs": [
    {
     "data": {
      "text/html": [
       "<div>\n",
       "<style scoped>\n",
       "    .dataframe tbody tr th:only-of-type {\n",
       "        vertical-align: middle;\n",
       "    }\n",
       "\n",
       "    .dataframe tbody tr th {\n",
       "        vertical-align: top;\n",
       "    }\n",
       "\n",
       "    .dataframe thead th {\n",
       "        text-align: right;\n",
       "    }\n",
       "</style>\n",
       "<table border=\"1\" class=\"dataframe\">\n",
       "  <thead>\n",
       "    <tr style=\"text-align: right;\">\n",
       "      <th></th>\n",
       "      <th>filename</th>\n",
       "      <th>levels</th>\n",
       "      <th>openings</th>\n",
       "      <th>fraction_areas</th>\n",
       "      <th>fraction_widths</th>\n",
       "      <th>avg_fraction_widths</th>\n",
       "      <th>fraction_heights</th>\n",
       "      <th>aggregate_fraction_heights</th>\n",
       "      <th>img_widths</th>\n",
       "      <th>img_heights</th>\n",
       "      <th>Go/NoGo</th>\n",
       "    </tr>\n",
       "  </thead>\n",
       "  <tbody>\n",
       "    <tr>\n",
       "      <th>0</th>\n",
       "      <td>1007</td>\n",
       "      <td>1</td>\n",
       "      <td>1.0</td>\n",
       "      <td>0.028925</td>\n",
       "      <td>0.096045</td>\n",
       "      <td>0.096045</td>\n",
       "      <td>0.407767</td>\n",
       "      <td>0.407767</td>\n",
       "      <td>531</td>\n",
       "      <td>206</td>\n",
       "      <td>1</td>\n",
       "    </tr>\n",
       "    <tr>\n",
       "      <th>1</th>\n",
       "      <td>1008</td>\n",
       "      <td>1</td>\n",
       "      <td>1.0</td>\n",
       "      <td>0.027588</td>\n",
       "      <td>0.105461</td>\n",
       "      <td>0.105461</td>\n",
       "      <td>0.432990</td>\n",
       "      <td>0.432990</td>\n",
       "      <td>531</td>\n",
       "      <td>194</td>\n",
       "      <td>1</td>\n",
       "    </tr>\n",
       "    <tr>\n",
       "      <th>2</th>\n",
       "      <td>1011</td>\n",
       "      <td>1</td>\n",
       "      <td>2.0</td>\n",
       "      <td>0.028925</td>\n",
       "      <td>0.167608</td>\n",
       "      <td>0.167608</td>\n",
       "      <td>0.461165</td>\n",
       "      <td>0.665049</td>\n",
       "      <td>531</td>\n",
       "      <td>206</td>\n",
       "      <td>1</td>\n",
       "    </tr>\n",
       "    <tr>\n",
       "      <th>3</th>\n",
       "      <td>1016</td>\n",
       "      <td>3</td>\n",
       "      <td>4.0</td>\n",
       "      <td>0.033021</td>\n",
       "      <td>0.269492</td>\n",
       "      <td>0.089831</td>\n",
       "      <td>0.336927</td>\n",
       "      <td>0.412399</td>\n",
       "      <td>590</td>\n",
       "      <td>371</td>\n",
       "      <td>1</td>\n",
       "    </tr>\n",
       "    <tr>\n",
       "      <th>4</th>\n",
       "      <td>1026</td>\n",
       "      <td>2</td>\n",
       "      <td>2.0</td>\n",
       "      <td>0.034910</td>\n",
       "      <td>0.133710</td>\n",
       "      <td>0.097928</td>\n",
       "      <td>0.410494</td>\n",
       "      <td>0.410494</td>\n",
       "      <td>531</td>\n",
       "      <td>324</td>\n",
       "      <td>1</td>\n",
       "    </tr>\n",
       "  </tbody>\n",
       "</table>\n",
       "</div>"
      ],
      "text/plain": [
       "   filename  levels  openings  fraction_areas  fraction_widths  \\\n",
       "0      1007       1       1.0        0.028925         0.096045   \n",
       "1      1008       1       1.0        0.027588         0.105461   \n",
       "2      1011       1       2.0        0.028925         0.167608   \n",
       "3      1016       3       4.0        0.033021         0.269492   \n",
       "4      1026       2       2.0        0.034910         0.133710   \n",
       "\n",
       "   avg_fraction_widths  fraction_heights  aggregate_fraction_heights  \\\n",
       "0             0.096045          0.407767                    0.407767   \n",
       "1             0.105461          0.432990                    0.432990   \n",
       "2             0.167608          0.461165                    0.665049   \n",
       "3             0.089831          0.336927                    0.412399   \n",
       "4             0.097928          0.410494                    0.410494   \n",
       "\n",
       "   img_widths  img_heights  Go/NoGo  \n",
       "0         531          206        1  \n",
       "1         531          194        1  \n",
       "2         531          206        1  \n",
       "3         590          371        1  \n",
       "4         531          324        1  "
      ]
     },
     "execution_count": 35,
     "metadata": {},
     "output_type": "execute_result"
    }
   ],
   "source": [
    "df_generated.head()"
   ]
  },
  {
   "cell_type": "code",
   "execution_count": 36,
   "metadata": {},
   "outputs": [
    {
     "data": {
      "text/html": [
       "<div>\n",
       "<style scoped>\n",
       "    .dataframe tbody tr th:only-of-type {\n",
       "        vertical-align: middle;\n",
       "    }\n",
       "\n",
       "    .dataframe tbody tr th {\n",
       "        vertical-align: top;\n",
       "    }\n",
       "\n",
       "    .dataframe thead th {\n",
       "        text-align: right;\n",
       "    }\n",
       "</style>\n",
       "<table border=\"1\" class=\"dataframe\">\n",
       "  <thead>\n",
       "    <tr style=\"text-align: right;\">\n",
       "      <th></th>\n",
       "      <th>filename</th>\n",
       "      <th>levels</th>\n",
       "      <th>openings</th>\n",
       "      <th>fraction_areas</th>\n",
       "      <th>fraction_widths</th>\n",
       "      <th>avg_fraction_widths</th>\n",
       "      <th>fraction_heights</th>\n",
       "      <th>aggregate_fraction_heights</th>\n",
       "      <th>img_widths</th>\n",
       "      <th>img_heights</th>\n",
       "      <th>Go/NoGo</th>\n",
       "    </tr>\n",
       "  </thead>\n",
       "  <tbody>\n",
       "    <tr>\n",
       "      <th>count</th>\n",
       "      <td>8371.000000</td>\n",
       "      <td>8371.000000</td>\n",
       "      <td>8371.000000</td>\n",
       "      <td>8371.000000</td>\n",
       "      <td>8371.000000</td>\n",
       "      <td>8371.000000</td>\n",
       "      <td>8371.000000</td>\n",
       "      <td>8371.000000</td>\n",
       "      <td>8371.000000</td>\n",
       "      <td>8371.000000</td>\n",
       "      <td>8371.000000</td>\n",
       "    </tr>\n",
       "    <tr>\n",
       "      <th>mean</th>\n",
       "      <td>4186.000000</td>\n",
       "      <td>2.214550</td>\n",
       "      <td>4.429100</td>\n",
       "      <td>0.034673</td>\n",
       "      <td>0.280837</td>\n",
       "      <td>0.154027</td>\n",
       "      <td>0.380955</td>\n",
       "      <td>0.618545</td>\n",
       "      <td>538.189225</td>\n",
       "      <td>321.595389</td>\n",
       "      <td>0.402580</td>\n",
       "    </tr>\n",
       "    <tr>\n",
       "      <th>std</th>\n",
       "      <td>2416.643885</td>\n",
       "      <td>0.814641</td>\n",
       "      <td>2.376273</td>\n",
       "      <td>0.005811</td>\n",
       "      <td>0.122312</td>\n",
       "      <td>0.057862</td>\n",
       "      <td>0.046367</td>\n",
       "      <td>0.197414</td>\n",
       "      <td>64.461820</td>\n",
       "      <td>75.918444</td>\n",
       "      <td>0.490447</td>\n",
       "    </tr>\n",
       "    <tr>\n",
       "      <th>min</th>\n",
       "      <td>1.000000</td>\n",
       "      <td>1.000000</td>\n",
       "      <td>0.000000</td>\n",
       "      <td>0.000000</td>\n",
       "      <td>0.000000</td>\n",
       "      <td>0.000000</td>\n",
       "      <td>0.000000</td>\n",
       "      <td>0.000000</td>\n",
       "      <td>1.000000</td>\n",
       "      <td>1.000000</td>\n",
       "      <td>0.000000</td>\n",
       "    </tr>\n",
       "    <tr>\n",
       "      <th>25%</th>\n",
       "      <td>2093.500000</td>\n",
       "      <td>2.000000</td>\n",
       "      <td>2.000000</td>\n",
       "      <td>0.031037</td>\n",
       "      <td>0.182203</td>\n",
       "      <td>0.106780</td>\n",
       "      <td>0.345346</td>\n",
       "      <td>0.433962</td>\n",
       "      <td>472.000000</td>\n",
       "      <td>300.000000</td>\n",
       "      <td>0.000000</td>\n",
       "    </tr>\n",
       "    <tr>\n",
       "      <th>50%</th>\n",
       "      <td>4186.000000</td>\n",
       "      <td>2.000000</td>\n",
       "      <td>4.000000</td>\n",
       "      <td>0.033692</td>\n",
       "      <td>0.264407</td>\n",
       "      <td>0.150847</td>\n",
       "      <td>0.379630</td>\n",
       "      <td>0.616667</td>\n",
       "      <td>531.000000</td>\n",
       "      <td>324.000000</td>\n",
       "      <td>0.000000</td>\n",
       "    </tr>\n",
       "    <tr>\n",
       "      <th>75%</th>\n",
       "      <td>6278.500000</td>\n",
       "      <td>3.000000</td>\n",
       "      <td>6.000000</td>\n",
       "      <td>0.037436</td>\n",
       "      <td>0.368039</td>\n",
       "      <td>0.193424</td>\n",
       "      <td>0.419877</td>\n",
       "      <td>0.752427</td>\n",
       "      <td>590.000000</td>\n",
       "      <td>395.000000</td>\n",
       "      <td>1.000000</td>\n",
       "    </tr>\n",
       "    <tr>\n",
       "      <th>max</th>\n",
       "      <td>8371.000000</td>\n",
       "      <td>4.000000</td>\n",
       "      <td>9.000000</td>\n",
       "      <td>0.048947</td>\n",
       "      <td>0.646489</td>\n",
       "      <td>0.382567</td>\n",
       "      <td>0.503086</td>\n",
       "      <td>1.316667</td>\n",
       "      <td>649.000000</td>\n",
       "      <td>418.000000</td>\n",
       "      <td>1.000000</td>\n",
       "    </tr>\n",
       "  </tbody>\n",
       "</table>\n",
       "</div>"
      ],
      "text/plain": [
       "          filename       levels     openings  fraction_areas  fraction_widths  \\\n",
       "count  8371.000000  8371.000000  8371.000000     8371.000000      8371.000000   \n",
       "mean   4186.000000     2.214550     4.429100        0.034673         0.280837   \n",
       "std    2416.643885     0.814641     2.376273        0.005811         0.122312   \n",
       "min       1.000000     1.000000     0.000000        0.000000         0.000000   \n",
       "25%    2093.500000     2.000000     2.000000        0.031037         0.182203   \n",
       "50%    4186.000000     2.000000     4.000000        0.033692         0.264407   \n",
       "75%    6278.500000     3.000000     6.000000        0.037436         0.368039   \n",
       "max    8371.000000     4.000000     9.000000        0.048947         0.646489   \n",
       "\n",
       "       avg_fraction_widths  fraction_heights  aggregate_fraction_heights  \\\n",
       "count          8371.000000       8371.000000                 8371.000000   \n",
       "mean              0.154027          0.380955                    0.618545   \n",
       "std               0.057862          0.046367                    0.197414   \n",
       "min               0.000000          0.000000                    0.000000   \n",
       "25%               0.106780          0.345346                    0.433962   \n",
       "50%               0.150847          0.379630                    0.616667   \n",
       "75%               0.193424          0.419877                    0.752427   \n",
       "max               0.382567          0.503086                    1.316667   \n",
       "\n",
       "        img_widths  img_heights      Go/NoGo  \n",
       "count  8371.000000  8371.000000  8371.000000  \n",
       "mean    538.189225   321.595389     0.402580  \n",
       "std      64.461820    75.918444     0.490447  \n",
       "min       1.000000     1.000000     0.000000  \n",
       "25%     472.000000   300.000000     0.000000  \n",
       "50%     531.000000   324.000000     0.000000  \n",
       "75%     590.000000   395.000000     1.000000  \n",
       "max     649.000000   418.000000     1.000000  "
      ]
     },
     "execution_count": 36,
     "metadata": {},
     "output_type": "execute_result"
    }
   ],
   "source": [
    "df_generated.describe()"
   ]
  },
  {
   "cell_type": "markdown",
   "metadata": {},
   "source": [
    "### xgboost"
   ]
  },
  {
   "cell_type": "code",
   "execution_count": 37,
   "metadata": {},
   "outputs": [],
   "source": [
    "X_train, y_train = df_generated.iloc[:, 1:10] , df_generated['Go/NoGo']"
   ]
  },
  {
   "cell_type": "code",
   "execution_count": 38,
   "metadata": {},
   "outputs": [],
   "source": [
    "X_test, y_test = df.iloc[:, 1:10] , [int(label=='Go') for label in labels]"
   ]
  },
  {
   "cell_type": "code",
   "execution_count": 39,
   "metadata": {},
   "outputs": [],
   "source": [
    "## normalizing the feature vectors\n",
    "scaler = StandardScaler()\n",
    "scaler.fit(X_train)\n",
    "X_train_scaled = pd.DataFrame(scaler.transform(X_train))"
   ]
  },
  {
   "cell_type": "code",
   "execution_count": 40,
   "metadata": {},
   "outputs": [],
   "source": [
    "## can't normalize the real images in the same way as the generated images because of different attributes\n",
    "scaler = StandardScaler()\n",
    "scaler.fit(X_test)\n",
    "X_test_scaled = pd.DataFrame(scaler.transform(X_test))"
   ]
  },
  {
   "cell_type": "code",
   "execution_count": 41,
   "metadata": {},
   "outputs": [
    {
     "name": "stdout",
     "output_type": "stream",
     "text": [
      "XGBClassifier(base_score=0.5, booster='gbtree', colsample_bylevel=1,\n",
      "              colsample_bynode=1, colsample_bytree=1, gamma=0,\n",
      "              learning_rate=0.1, max_delta_step=0, max_depth=3,\n",
      "              min_child_weight=1, missing=None, n_estimators=100, n_jobs=1,\n",
      "              nthread=None, objective='binary:logistic', random_state=0,\n",
      "              reg_alpha=0, reg_lambda=1, scale_pos_weight=1, seed=None,\n",
      "              silent=None, subsample=1, verbosity=1)\n"
     ]
    }
   ],
   "source": [
    "# fit model no training data\n",
    "model = xgb.XGBClassifier()\n",
    "model.fit(X_train_scaled, y_train)\n",
    "\n",
    "print(model)"
   ]
  },
  {
   "cell_type": "code",
   "execution_count": 42,
   "metadata": {},
   "outputs": [
    {
     "name": "stdout",
     "output_type": "stream",
     "text": [
      "Accuracy: 45.83%\n"
     ]
    }
   ],
   "source": [
    "# make predictions for test data\n",
    "y_pred = model.predict(X_test_scaled)\n",
    "predictions = [round(value) for value in y_pred]\n",
    "\n",
    "# evaluate predictions\n",
    "accuracy = accuracy_score(y_test, predictions)\n",
    "print(\"Accuracy: %.2f%%\" % (accuracy * 100.0))"
   ]
  },
  {
   "cell_type": "code",
   "execution_count": 43,
   "metadata": {},
   "outputs": [
    {
     "data": {
      "text/plain": [
       "array([[72, 16],\n",
       "       [88, 16]])"
      ]
     },
     "execution_count": 43,
     "metadata": {},
     "output_type": "execute_result"
    }
   ],
   "source": [
    "confusion_matrix(y_test, predictions)"
   ]
  },
  {
   "cell_type": "code",
   "execution_count": 44,
   "metadata": {},
   "outputs": [
    {
     "name": "stdout",
     "output_type": "stream",
     "text": [
      "Precision: 0.5\n",
      "Recall: 0.15384615384615385\n",
      "f1-score: 0.23529411764705882\n"
     ]
    }
   ],
   "source": [
    "print(\"Precision:\",metrics.precision_score(y_test, predictions))\n",
    "print(\"Recall:\",metrics.recall_score(y_test, predictions))\n",
    "print(\"f1-score:\",2*metrics.precision_score(y_test, predictions)*metrics.recall_score(y_test, predictions)\n",
    "      /(metrics.precision_score(y_test, predictions)+metrics.recall_score(y_test, predictions)))"
   ]
  },
  {
   "cell_type": "markdown",
   "metadata": {},
   "source": [
    "#### The results suggest that the classificer predicts most of the observations as NoGo. We can optimize the threshold to get better accuracy and f1-score."
   ]
  },
  {
   "cell_type": "code",
   "execution_count": 78,
   "metadata": {},
   "outputs": [],
   "source": [
    "y_prob = model.predict_proba(X_test_scaled)[:,1]"
   ]
  },
  {
   "cell_type": "code",
   "execution_count": 79,
   "metadata": {},
   "outputs": [
    {
     "name": "stderr",
     "output_type": "stream",
     "text": [
      "/nfs/home/bkd5268/.conda/envs/build_change/lib/python3.6/site-packages/ipykernel_launcher.py:8: RuntimeWarning: invalid value encountered in double_scalars\n",
      "  \n"
     ]
    }
   ],
   "source": [
    "acc = []\n",
    "f1 = []\n",
    "for p_star in np.linspace(0,1, num = 100):\n",
    "    predictions_pstar = [int(value>p_star) for value in y_prob]\n",
    "    acc.append(accuracy_score(y_test, predictions_pstar))\n",
    "    prec = metrics.precision_score(y_test, predictions_pstar)\n",
    "    rec = metrics.recall_score(y_test, predictions_pstar)\n",
    "    f1.append(2*prec*rec/(prec+rec))"
   ]
  },
  {
   "cell_type": "code",
   "execution_count": 83,
   "metadata": {},
   "outputs": [
    {
     "data": {
      "image/png": "[encoded data removed]",
      "text/plain": [
       "<Figure size 432x288 with 1 Axes>"
      ]
     },
     "metadata": {
      "needs_background": "light"
     },
     "output_type": "display_data"
    }
   ],
   "source": [
    "fig, ax = plt.subplots()\n",
    "ax.plot(np.linspace(0,1, num = 100), acc)\n",
    "\n",
    "ax.set(xlabel='p_star', ylabel='accuracy',\n",
    "       title='accuracy vs threshold probability')\n",
    "ax.grid()\n",
    "\n",
    "plt.show()"
   ]
  },
  {
   "cell_type": "code",
   "execution_count": 84,
   "metadata": {},
   "outputs": [
    {
     "data": {
      "image/png": "[encoded data removed]",
      "text/plain": [
       "<Figure size 432x288 with 1 Axes>"
      ]
     },
     "metadata": {
      "needs_background": "light"
     },
     "output_type": "display_data"
    }
   ],
   "source": [
    "fig, ax = plt.subplots()\n",
    "ax.plot(np.linspace(0,1, num = 100), f1)\n",
    "\n",
    "ax.set(xlabel='p_star', ylabel='f1-score',\n",
    "       title='f1-score vs threshold probability')\n",
    "ax.grid()\n",
    "\n",
    "plt.show()"
   ]
  },
  {
   "cell_type": "code",
   "execution_count": 91,
   "metadata": {},
   "outputs": [
    {
     "name": "stdout",
     "output_type": "stream",
     "text": [
      "Accuracy: 59.90%\n"
     ]
    }
   ],
   "source": [
    "p_star_best = np.linspace(0,1, num = 100)[np.argmax(acc)]\n",
    "predictions_pstar = [int(value>p_star_best) for value in y_prob]\n",
    "accuracy = accuracy_score(y_test, predictions_pstar)\n",
    "print(\"best threshold =\", p_star_best)\n",
    "print(\"Accuracy: %.2f%%\" % (accuracy * 100.0))"
   ]
  },
  {
   "cell_type": "code",
   "execution_count": 92,
   "metadata": {},
   "outputs": [
    {
     "data": {
      "text/plain": [
       "array([[32, 56],\n",
       "       [21, 83]])"
      ]
     },
     "execution_count": 92,
     "metadata": {},
     "output_type": "execute_result"
    }
   ],
   "source": [
    "confusion_matrix(y_test, predictions_pstar)"
   ]
  },
  {
   "cell_type": "code",
   "execution_count": 93,
   "metadata": {},
   "outputs": [
    {
     "name": "stdout",
     "output_type": "stream",
     "text": [
      "Precision: 0.5971223021582733\n",
      "Recall: 0.7980769230769231\n",
      "f1-score: 0.6831275720164609\n"
     ]
    }
   ],
   "source": [
    "print(\"Precision:\",metrics.precision_score(y_test, predictions_pstar))\n",
    "print(\"Recall:\",metrics.recall_score(y_test, predictions_pstar))\n",
    "print(\"f1-score:\",2*metrics.precision_score(y_test, predictions_pstar)*metrics.recall_score(y_test, predictions_pstar)\n",
    "      /(metrics.precision_score(y_test, predictions_pstar)+metrics.recall_score(y_test, predictions_pstar)))"
   ]
  },
  {
   "cell_type": "markdown",
   "metadata": {},
   "source": [
    "#### After fine-tuning our best model (XGBoost classifier) to adjust threshold probability for the real data,\n",
    "#### we got an accuracy of 59.9% and an f1-score of 0.68 on the real images."
   ]
  },
  {
   "cell_type": "code",
   "execution_count": null,
   "metadata": {},
   "outputs": [],
   "source": []
  }
 ],
 "metadata": {
  "kernelspec": {
   "display_name": "Python [conda env:build_change]",
   "language": "python",
   "name": "conda-env-build_change-py"
  },
  "language_info": {
   "codemirror_mode": {
    "name": "ipython",
    "version": 3
   },
   "file_extension": ".py",
   "mimetype": "text/x-python",
   "name": "python",
   "nbconvert_exporter": "python",
   "pygments_lexer": "ipython3",
   "version": "3.6.7"
  }
 },
 "nbformat": 4,
 "nbformat_minor": 2
}
