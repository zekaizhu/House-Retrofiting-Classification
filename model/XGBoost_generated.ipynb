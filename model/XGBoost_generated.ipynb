{
 "cells": [
  {
   "cell_type": "code",
   "execution_count": 1,
   "metadata": {},
   "outputs": [],
   "source": [
    "# Import packages\n",
    "import matplotlib.pyplot as plt\n",
    "import numpy as np\n",
    "import pandas as pd\n",
    "from os import listdir\n",
    "import cv2\n",
    "import math\n",
    "from sklearn import preprocessing\n",
    "from sklearn.linear_model import LogisticRegression\n",
    "from sklearn.preprocessing import StandardScaler\n",
    "from sklearn.model_selection import train_test_split\n",
    "from sklearn.model_selection import GridSearchCV\n",
    "from sklearn.metrics import confusion_matrix\n",
    "from sklearn import metrics\n",
    "from collections import Counter\n",
    "from tqdm import tqdm"
   ]
  },
  {
   "cell_type": "markdown",
   "metadata": {},
   "source": [
    "### The data is stored inside the 'team' directory"
   ]
  },
  {
   "cell_type": "code",
   "execution_count": 2,
   "metadata": {},
   "outputs": [],
   "source": [
    "path = '../../team/courses/MSiA400/GrandTeton'"
   ]
  },
  {
   "cell_type": "code",
   "execution_count": 3,
   "metadata": {},
   "outputs": [],
   "source": [
    "path_real = path + '/Photos-20191020T020916Z-001/Photos/'\n",
    "path_generated_go = path + '/GO_noGO Data Set_Images/TestGo/'\n",
    "path_generated_nogo = path + '/GO_noGO Data Set_Images/TestNoGo/'\n",
    "\n",
    "# Set path for training images\n",
    "filepaths_go = [f for f in listdir(path_generated_go) if f.endswith('.png')]\n",
    "filepaths_nogo = [f for f in listdir(path_generated_nogo) if f.endswith('.png')]"
   ]
  },
  {
   "cell_type": "code",
   "execution_count": 4,
   "metadata": {},
   "outputs": [
    {
     "name": "stderr",
     "output_type": "stream",
     "text": [
      "100%|██████████| 3370/3370 [01:03<00:00, 53.07it/s]\n"
     ]
    }
   ],
   "source": [
    "# Read all GO and NoGO images into a list\n",
    "list_img = []\n",
    "for i in tqdm(filepaths_go):\n",
    "    list_img.append(cv2.imread(path_generated_go + i))"
   ]
  },
  {
   "cell_type": "code",
   "execution_count": 5,
   "metadata": {},
   "outputs": [
    {
     "name": "stderr",
     "output_type": "stream",
     "text": [
      "100%|██████████| 5001/5001 [01:40<00:00, 49.55it/s] \n"
     ]
    }
   ],
   "source": [
    "for i in tqdm(filepaths_nogo):\n",
    "    list_img.append(cv2.imread(path_generated_nogo + i))"
   ]
  },
  {
   "cell_type": "code",
   "execution_count": 6,
   "metadata": {},
   "outputs": [],
   "source": [
    "n = len(list_img)"
   ]
  },
  {
   "cell_type": "code",
   "execution_count": 7,
   "metadata": {},
   "outputs": [
    {
     "data": {
      "text/plain": [
       "8371"
      ]
     },
     "execution_count": 7,
     "metadata": {},
     "output_type": "execute_result"
    }
   ],
   "source": [
    "n"
   ]
  },
  {
   "cell_type": "markdown",
   "metadata": {},
   "source": [
    "### Feature Extraction class"
   ]
  },
  {
   "cell_type": "code",
   "execution_count": 8,
   "metadata": {},
   "outputs": [],
   "source": [
    "from Feature_Extractor_generated import Feature_Extractor\n",
    "## extracts 9 features from input image using opencv and other classical computer vision packages"
   ]
  },
  {
   "cell_type": "markdown",
   "metadata": {},
   "source": [
    "### Processing feature vectors for all the images"
   ]
  },
  {
   "cell_type": "code",
   "execution_count": 9,
   "metadata": {},
   "outputs": [],
   "source": [
    "feature_extractor = Feature_Extractor()"
   ]
  },
  {
   "cell_type": "code",
   "execution_count": 10,
   "metadata": {},
   "outputs": [
    {
     "name": "stderr",
     "output_type": "stream",
     "text": [
      "100%|██████████| 8371/8371 [00:13<00:00, 602.02it/s]\n"
     ]
    }
   ],
   "source": [
    "# Create a list called 'levels' to store number of floors for each building\n",
    "levels = []\n",
    "for i in tqdm(range(n)):\n",
    "    n_level = feature_extractor.count_level(list_img[i])\n",
    "    levels.append(n_level)"
   ]
  },
  {
   "cell_type": "code",
   "execution_count": 11,
   "metadata": {},
   "outputs": [
    {
     "data": {
      "text/plain": [
       "Counter({1: 2037, 3: 3763, 2: 2536, 4: 35})"
      ]
     },
     "execution_count": 11,
     "metadata": {},
     "output_type": "execute_result"
    }
   ],
   "source": [
    "Counter(levels)"
   ]
  },
  {
   "cell_type": "code",
   "execution_count": 12,
   "metadata": {},
   "outputs": [
    {
     "name": "stderr",
     "output_type": "stream",
     "text": [
      "100%|██████████| 8371/8371 [00:06<00:00, 1231.91it/s]\n"
     ]
    }
   ],
   "source": [
    "# Create a list called 'openings' to store number of openings\n",
    "openings = []\n",
    "for i in tqdm(range(n)):\n",
    "    openings.append(feature_extractor.count_openings(list_img[i]))"
   ]
  },
  {
   "cell_type": "code",
   "execution_count": 13,
   "metadata": {},
   "outputs": [
    {
     "data": {
      "text/plain": [
       "Counter({1: 628,\n",
       "         2: 1475,\n",
       "         4: 1056,\n",
       "         6: 1791,\n",
       "         3: 1654,\n",
       "         5: 389,\n",
       "         7: 276,\n",
       "         9: 881,\n",
       "         8: 220,\n",
       "         0.0: 1})"
      ]
     },
     "execution_count": 13,
     "metadata": {},
     "output_type": "execute_result"
    }
   ],
   "source": [
    "Counter(openings)"
   ]
  },
  {
   "cell_type": "code",
   "execution_count": 14,
   "metadata": {},
   "outputs": [
    {
     "name": "stderr",
     "output_type": "stream",
     "text": [
      "100%|██████████| 8371/8371 [00:08<00:00, 977.61it/s] \n"
     ]
    }
   ],
   "source": [
    "# Create a list called 'fraction_widths' to store proportion of sum of all windows' widths (without overlap), (on all floors) \n",
    "# to the overall width of building\n",
    "fraction_widths = []\n",
    "for i in tqdm(range(len(list_img))):\n",
    "    fraction_widths.append(feature_extractor.fraction_width(list_img[i]))"
   ]
  },
  {
   "cell_type": "code",
   "execution_count": 15,
   "metadata": {},
   "outputs": [
    {
     "name": "stderr",
     "output_type": "stream",
     "text": [
      "100%|██████████| 8371/8371 [00:23<00:00, 359.24it/s]\n"
     ]
    }
   ],
   "source": [
    "# Create a list called 'avg_fraction_widths' to store proportion of average of all windows' widths (over all floors) \n",
    "# to the overall width of building\n",
    "avg_fraction_widths = []\n",
    "for i in tqdm(range(len(list_img))):\n",
    "    avg_fraction_widths.append(feature_extractor.avg_fraction_width(list_img[i]))"
   ]
  },
  {
   "cell_type": "code",
   "execution_count": 16,
   "metadata": {},
   "outputs": [
    {
     "name": "stderr",
     "output_type": "stream",
     "text": [
      "100%|██████████| 8371/8371 [00:08<00:00, 1016.27it/s]\n"
     ]
    }
   ],
   "source": [
    "# Create a list called 'fraction_heights' to store proportion of sum of all windows' heights (without overlap), on all floors \n",
    "# to the overall height of building\n",
    "fraction_heights = []\n",
    "for i in tqdm(range(len(list_img))):\n",
    "    fraction_heights.append(feature_extractor.fraction_height(list_img[i]))"
   ]
  },
  {
   "cell_type": "code",
   "execution_count": 17,
   "metadata": {},
   "outputs": [
    {
     "name": "stderr",
     "output_type": "stream",
     "text": [
      "100%|██████████| 8371/8371 [00:07<00:00, 1179.28it/s]\n"
     ]
    }
   ],
   "source": [
    "# Create a list called 'aggregate_fraction_heights' to store proportion of sum of all windows' heights (on all floors) \n",
    "# to the overall height of building\n",
    "aggregate_fraction_heights = []\n",
    "for i in tqdm(range(len(list_img))):\n",
    "    aggregate_fraction_heights.append(feature_extractor.aggregate_fraction_height(list_img[i]))"
   ]
  },
  {
   "cell_type": "code",
   "execution_count": 18,
   "metadata": {},
   "outputs": [
    {
     "name": "stderr",
     "output_type": "stream",
     "text": [
      "100%|██████████| 8371/8371 [00:00<00:00, 512009.20it/s]\n"
     ]
    }
   ],
   "source": [
    "# Create a list called 'img_widths' to store the pixel widths of all images\n",
    "img_widths = []\n",
    "for i in tqdm(range(len(list_img))):\n",
    "    img_widths.append(feature_extractor.img_width(list_img[i]))"
   ]
  },
  {
   "cell_type": "code",
   "execution_count": 19,
   "metadata": {},
   "outputs": [
    {
     "name": "stderr",
     "output_type": "stream",
     "text": [
      "100%|██████████| 8371/8371 [00:00<00:00, 516020.03it/s]\n"
     ]
    }
   ],
   "source": [
    "# Create a list called 'img_heights' to store the pixel widths of all images\n",
    "img_heights = []\n",
    "for i in tqdm(range(len(list_img))):\n",
    "    img_heights.append(feature_extractor.img_height(list_img[i]))"
   ]
  },
  {
   "cell_type": "code",
   "execution_count": 20,
   "metadata": {},
   "outputs": [
    {
     "name": "stderr",
     "output_type": "stream",
     "text": [
      "100%|██████████| 8371/8371 [00:06<00:00, 1387.44it/s]\n"
     ]
    }
   ],
   "source": [
    "# Create a list called 'img_heights' to store the pixel widths of all images\n",
    "fraction_areas = []\n",
    "for i in tqdm(range(len(list_img))):\n",
    "    fraction_areas.append(feature_extractor.fraction_area(list_img[i]))"
   ]
  },
  {
   "cell_type": "code",
   "execution_count": 21,
   "metadata": {},
   "outputs": [
    {
     "data": {
      "text/plain": [
       "[1007, 1008, 1011, 1016, 1026, 103, 1031, 1039, 1047, 105]"
      ]
     },
     "execution_count": 21,
     "metadata": {},
     "output_type": "execute_result"
    }
   ],
   "source": [
    "# Extract image index (four digit number)\n",
    "files_go_idx = []\n",
    "for file in filepaths_go:\n",
    "    files_go_idx.append(int(file.split(\"Img\")[1].split(\".\")[0]))\n",
    "files_go_idx[:10]"
   ]
  },
  {
   "cell_type": "code",
   "execution_count": 22,
   "metadata": {},
   "outputs": [
    {
     "data": {
      "text/plain": [
       "[1, 10, 100, 1000, 1001, 1002, 1003, 1004, 1005, 1006]"
      ]
     },
     "execution_count": 22,
     "metadata": {},
     "output_type": "execute_result"
    }
   ],
   "source": [
    "files_nogo_idx = []\n",
    "for file in filepaths_nogo:\n",
    "    if \"Img\" in file:\n",
    "        files_nogo_idx.append(int(file.split(\"Img\")[1].split(\".\")[0]))\n",
    "files_nogo_idx[:10]"
   ]
  },
  {
   "cell_type": "code",
   "execution_count": 23,
   "metadata": {},
   "outputs": [],
   "source": [
    "files = files_go_idx + files_nogo_idx"
   ]
  },
  {
   "cell_type": "code",
   "execution_count": 24,
   "metadata": {},
   "outputs": [],
   "source": [
    "# Create a a dataframe with all features and image index as columns\n",
    "dic = {\"filename\":files, \"levels\":levels, \"openings\":openings, \"fraction_areas\":fraction_areas, \"fraction_widths\":fraction_widths, \n",
    "       \"avg_fraction_widths\":avg_fraction_widths, \"fraction_heights\":fraction_heights, \n",
    "       \"aggregate_fraction_heights\":aggregate_fraction_heights, \"img_widths\":img_widths, \"img_heights\":img_heights}\n",
    "df = pd.DataFrame(dic)"
   ]
  },
  {
   "cell_type": "code",
   "execution_count": 25,
   "metadata": {},
   "outputs": [
    {
     "data": {
      "text/html": [
       "<div>\n",
       "<style scoped>\n",
       "    .dataframe tbody tr th:only-of-type {\n",
       "        vertical-align: middle;\n",
       "    }\n",
       "\n",
       "    .dataframe tbody tr th {\n",
       "        vertical-align: top;\n",
       "    }\n",
       "\n",
       "    .dataframe thead th {\n",
       "        text-align: right;\n",
       "    }\n",
       "</style>\n",
       "<table border=\"1\" class=\"dataframe\">\n",
       "  <thead>\n",
       "    <tr style=\"text-align: right;\">\n",
       "      <th></th>\n",
       "      <th>filename</th>\n",
       "      <th>levels</th>\n",
       "      <th>openings</th>\n",
       "      <th>fraction_areas</th>\n",
       "      <th>fraction_widths</th>\n",
       "      <th>avg_fraction_widths</th>\n",
       "      <th>fraction_heights</th>\n",
       "      <th>aggregate_fraction_heights</th>\n",
       "      <th>img_widths</th>\n",
       "      <th>img_heights</th>\n",
       "    </tr>\n",
       "  </thead>\n",
       "  <tbody>\n",
       "    <tr>\n",
       "      <th>0</th>\n",
       "      <td>1007</td>\n",
       "      <td>1</td>\n",
       "      <td>1.0</td>\n",
       "      <td>0.028925</td>\n",
       "      <td>0.096045</td>\n",
       "      <td>0.096045</td>\n",
       "      <td>0.407767</td>\n",
       "      <td>0.407767</td>\n",
       "      <td>531</td>\n",
       "      <td>206</td>\n",
       "    </tr>\n",
       "    <tr>\n",
       "      <th>1</th>\n",
       "      <td>1008</td>\n",
       "      <td>1</td>\n",
       "      <td>1.0</td>\n",
       "      <td>0.027588</td>\n",
       "      <td>0.105461</td>\n",
       "      <td>0.105461</td>\n",
       "      <td>0.432990</td>\n",
       "      <td>0.432990</td>\n",
       "      <td>531</td>\n",
       "      <td>194</td>\n",
       "    </tr>\n",
       "    <tr>\n",
       "      <th>2</th>\n",
       "      <td>1011</td>\n",
       "      <td>1</td>\n",
       "      <td>2.0</td>\n",
       "      <td>0.028925</td>\n",
       "      <td>0.167608</td>\n",
       "      <td>0.167608</td>\n",
       "      <td>0.461165</td>\n",
       "      <td>0.665049</td>\n",
       "      <td>531</td>\n",
       "      <td>206</td>\n",
       "    </tr>\n",
       "    <tr>\n",
       "      <th>3</th>\n",
       "      <td>1016</td>\n",
       "      <td>3</td>\n",
       "      <td>4.0</td>\n",
       "      <td>0.033021</td>\n",
       "      <td>0.269492</td>\n",
       "      <td>0.089831</td>\n",
       "      <td>0.336927</td>\n",
       "      <td>0.412399</td>\n",
       "      <td>590</td>\n",
       "      <td>371</td>\n",
       "    </tr>\n",
       "    <tr>\n",
       "      <th>4</th>\n",
       "      <td>1026</td>\n",
       "      <td>2</td>\n",
       "      <td>2.0</td>\n",
       "      <td>0.034910</td>\n",
       "      <td>0.133710</td>\n",
       "      <td>0.097928</td>\n",
       "      <td>0.410494</td>\n",
       "      <td>0.410494</td>\n",
       "      <td>531</td>\n",
       "      <td>324</td>\n",
       "    </tr>\n",
       "  </tbody>\n",
       "</table>\n",
       "</div>"
      ],
      "text/plain": [
       "   filename  levels  openings  fraction_areas  fraction_widths  \\\n",
       "0      1007       1       1.0        0.028925         0.096045   \n",
       "1      1008       1       1.0        0.027588         0.105461   \n",
       "2      1011       1       2.0        0.028925         0.167608   \n",
       "3      1016       3       4.0        0.033021         0.269492   \n",
       "4      1026       2       2.0        0.034910         0.133710   \n",
       "\n",
       "   avg_fraction_widths  fraction_heights  aggregate_fraction_heights  \\\n",
       "0             0.096045          0.407767                    0.407767   \n",
       "1             0.105461          0.432990                    0.432990   \n",
       "2             0.167608          0.461165                    0.665049   \n",
       "3             0.089831          0.336927                    0.412399   \n",
       "4             0.097928          0.410494                    0.410494   \n",
       "\n",
       "   img_widths  img_heights  \n",
       "0         531          206  \n",
       "1         531          194  \n",
       "2         531          206  \n",
       "3         590          371  \n",
       "4         531          324  "
      ]
     },
     "execution_count": 25,
     "metadata": {},
     "output_type": "execute_result"
    }
   ],
   "source": [
    "df.head()"
   ]
  },
  {
   "cell_type": "code",
   "execution_count": 26,
   "metadata": {},
   "outputs": [],
   "source": [
    "# Add GO/NoGo column to label each image\n",
    "df['Go/NoGo']=df['filename'].apply(lambda x: 1 if x in files_go_idx else 0)"
   ]
  },
  {
   "cell_type": "code",
   "execution_count": 27,
   "metadata": {},
   "outputs": [
    {
     "data": {
      "text/html": [
       "<div>\n",
       "<style scoped>\n",
       "    .dataframe tbody tr th:only-of-type {\n",
       "        vertical-align: middle;\n",
       "    }\n",
       "\n",
       "    .dataframe tbody tr th {\n",
       "        vertical-align: top;\n",
       "    }\n",
       "\n",
       "    .dataframe thead th {\n",
       "        text-align: right;\n",
       "    }\n",
       "</style>\n",
       "<table border=\"1\" class=\"dataframe\">\n",
       "  <thead>\n",
       "    <tr style=\"text-align: right;\">\n",
       "      <th></th>\n",
       "      <th>filename</th>\n",
       "      <th>levels</th>\n",
       "      <th>openings</th>\n",
       "      <th>fraction_areas</th>\n",
       "      <th>fraction_widths</th>\n",
       "      <th>avg_fraction_widths</th>\n",
       "      <th>fraction_heights</th>\n",
       "      <th>aggregate_fraction_heights</th>\n",
       "      <th>img_widths</th>\n",
       "      <th>img_heights</th>\n",
       "      <th>Go/NoGo</th>\n",
       "    </tr>\n",
       "  </thead>\n",
       "  <tbody>\n",
       "    <tr>\n",
       "      <th>0</th>\n",
       "      <td>1007</td>\n",
       "      <td>1</td>\n",
       "      <td>1.0</td>\n",
       "      <td>0.028925</td>\n",
       "      <td>0.096045</td>\n",
       "      <td>0.096045</td>\n",
       "      <td>0.407767</td>\n",
       "      <td>0.407767</td>\n",
       "      <td>531</td>\n",
       "      <td>206</td>\n",
       "      <td>1</td>\n",
       "    </tr>\n",
       "    <tr>\n",
       "      <th>1</th>\n",
       "      <td>1008</td>\n",
       "      <td>1</td>\n",
       "      <td>1.0</td>\n",
       "      <td>0.027588</td>\n",
       "      <td>0.105461</td>\n",
       "      <td>0.105461</td>\n",
       "      <td>0.432990</td>\n",
       "      <td>0.432990</td>\n",
       "      <td>531</td>\n",
       "      <td>194</td>\n",
       "      <td>1</td>\n",
       "    </tr>\n",
       "    <tr>\n",
       "      <th>2</th>\n",
       "      <td>1011</td>\n",
       "      <td>1</td>\n",
       "      <td>2.0</td>\n",
       "      <td>0.028925</td>\n",
       "      <td>0.167608</td>\n",
       "      <td>0.167608</td>\n",
       "      <td>0.461165</td>\n",
       "      <td>0.665049</td>\n",
       "      <td>531</td>\n",
       "      <td>206</td>\n",
       "      <td>1</td>\n",
       "    </tr>\n",
       "    <tr>\n",
       "      <th>3</th>\n",
       "      <td>1016</td>\n",
       "      <td>3</td>\n",
       "      <td>4.0</td>\n",
       "      <td>0.033021</td>\n",
       "      <td>0.269492</td>\n",
       "      <td>0.089831</td>\n",
       "      <td>0.336927</td>\n",
       "      <td>0.412399</td>\n",
       "      <td>590</td>\n",
       "      <td>371</td>\n",
       "      <td>1</td>\n",
       "    </tr>\n",
       "    <tr>\n",
       "      <th>4</th>\n",
       "      <td>1026</td>\n",
       "      <td>2</td>\n",
       "      <td>2.0</td>\n",
       "      <td>0.034910</td>\n",
       "      <td>0.133710</td>\n",
       "      <td>0.097928</td>\n",
       "      <td>0.410494</td>\n",
       "      <td>0.410494</td>\n",
       "      <td>531</td>\n",
       "      <td>324</td>\n",
       "      <td>1</td>\n",
       "    </tr>\n",
       "  </tbody>\n",
       "</table>\n",
       "</div>"
      ],
      "text/plain": [
       "   filename  levels  openings  fraction_areas  fraction_widths  \\\n",
       "0      1007       1       1.0        0.028925         0.096045   \n",
       "1      1008       1       1.0        0.027588         0.105461   \n",
       "2      1011       1       2.0        0.028925         0.167608   \n",
       "3      1016       3       4.0        0.033021         0.269492   \n",
       "4      1026       2       2.0        0.034910         0.133710   \n",
       "\n",
       "   avg_fraction_widths  fraction_heights  aggregate_fraction_heights  \\\n",
       "0             0.096045          0.407767                    0.407767   \n",
       "1             0.105461          0.432990                    0.432990   \n",
       "2             0.167608          0.461165                    0.665049   \n",
       "3             0.089831          0.336927                    0.412399   \n",
       "4             0.097928          0.410494                    0.410494   \n",
       "\n",
       "   img_widths  img_heights  Go/NoGo  \n",
       "0         531          206        1  \n",
       "1         531          194        1  \n",
       "2         531          206        1  \n",
       "3         590          371        1  \n",
       "4         531          324        1  "
      ]
     },
     "execution_count": 27,
     "metadata": {},
     "output_type": "execute_result"
    }
   ],
   "source": [
    "df.head()"
   ]
  },
  {
   "cell_type": "code",
   "execution_count": 28,
   "metadata": {},
   "outputs": [
    {
     "data": {
      "text/html": [
       "<div>\n",
       "<style scoped>\n",
       "    .dataframe tbody tr th:only-of-type {\n",
       "        vertical-align: middle;\n",
       "    }\n",
       "\n",
       "    .dataframe tbody tr th {\n",
       "        vertical-align: top;\n",
       "    }\n",
       "\n",
       "    .dataframe thead th {\n",
       "        text-align: right;\n",
       "    }\n",
       "</style>\n",
       "<table border=\"1\" class=\"dataframe\">\n",
       "  <thead>\n",
       "    <tr style=\"text-align: right;\">\n",
       "      <th></th>\n",
       "      <th>filename</th>\n",
       "      <th>levels</th>\n",
       "      <th>openings</th>\n",
       "      <th>fraction_areas</th>\n",
       "      <th>fraction_widths</th>\n",
       "      <th>avg_fraction_widths</th>\n",
       "      <th>fraction_heights</th>\n",
       "      <th>aggregate_fraction_heights</th>\n",
       "      <th>img_widths</th>\n",
       "      <th>img_heights</th>\n",
       "      <th>Go/NoGo</th>\n",
       "    </tr>\n",
       "  </thead>\n",
       "  <tbody>\n",
       "    <tr>\n",
       "      <th>count</th>\n",
       "      <td>8371.000000</td>\n",
       "      <td>8371.000000</td>\n",
       "      <td>8371.000000</td>\n",
       "      <td>8371.000000</td>\n",
       "      <td>8371.000000</td>\n",
       "      <td>8371.000000</td>\n",
       "      <td>8371.000000</td>\n",
       "      <td>8371.000000</td>\n",
       "      <td>8371.000000</td>\n",
       "      <td>8371.000000</td>\n",
       "      <td>8371.000000</td>\n",
       "    </tr>\n",
       "    <tr>\n",
       "      <th>mean</th>\n",
       "      <td>4186.000000</td>\n",
       "      <td>2.214550</td>\n",
       "      <td>4.429100</td>\n",
       "      <td>0.034673</td>\n",
       "      <td>0.280837</td>\n",
       "      <td>0.154027</td>\n",
       "      <td>0.380955</td>\n",
       "      <td>0.618545</td>\n",
       "      <td>538.189225</td>\n",
       "      <td>321.595389</td>\n",
       "      <td>0.402580</td>\n",
       "    </tr>\n",
       "    <tr>\n",
       "      <th>std</th>\n",
       "      <td>2416.643885</td>\n",
       "      <td>0.814641</td>\n",
       "      <td>2.376273</td>\n",
       "      <td>0.005811</td>\n",
       "      <td>0.122312</td>\n",
       "      <td>0.057862</td>\n",
       "      <td>0.046367</td>\n",
       "      <td>0.197414</td>\n",
       "      <td>64.461820</td>\n",
       "      <td>75.918444</td>\n",
       "      <td>0.490447</td>\n",
       "    </tr>\n",
       "    <tr>\n",
       "      <th>min</th>\n",
       "      <td>1.000000</td>\n",
       "      <td>1.000000</td>\n",
       "      <td>0.000000</td>\n",
       "      <td>0.000000</td>\n",
       "      <td>0.000000</td>\n",
       "      <td>0.000000</td>\n",
       "      <td>0.000000</td>\n",
       "      <td>0.000000</td>\n",
       "      <td>1.000000</td>\n",
       "      <td>1.000000</td>\n",
       "      <td>0.000000</td>\n",
       "    </tr>\n",
       "    <tr>\n",
       "      <th>25%</th>\n",
       "      <td>2093.500000</td>\n",
       "      <td>2.000000</td>\n",
       "      <td>2.000000</td>\n",
       "      <td>0.031037</td>\n",
       "      <td>0.182203</td>\n",
       "      <td>0.106780</td>\n",
       "      <td>0.345346</td>\n",
       "      <td>0.433962</td>\n",
       "      <td>472.000000</td>\n",
       "      <td>300.000000</td>\n",
       "      <td>0.000000</td>\n",
       "    </tr>\n",
       "    <tr>\n",
       "      <th>50%</th>\n",
       "      <td>4186.000000</td>\n",
       "      <td>2.000000</td>\n",
       "      <td>4.000000</td>\n",
       "      <td>0.033692</td>\n",
       "      <td>0.264407</td>\n",
       "      <td>0.150847</td>\n",
       "      <td>0.379630</td>\n",
       "      <td>0.616667</td>\n",
       "      <td>531.000000</td>\n",
       "      <td>324.000000</td>\n",
       "      <td>0.000000</td>\n",
       "    </tr>\n",
       "    <tr>\n",
       "      <th>75%</th>\n",
       "      <td>6278.500000</td>\n",
       "      <td>3.000000</td>\n",
       "      <td>6.000000</td>\n",
       "      <td>0.037436</td>\n",
       "      <td>0.368039</td>\n",
       "      <td>0.193424</td>\n",
       "      <td>0.419877</td>\n",
       "      <td>0.752427</td>\n",
       "      <td>590.000000</td>\n",
       "      <td>395.000000</td>\n",
       "      <td>1.000000</td>\n",
       "    </tr>\n",
       "    <tr>\n",
       "      <th>max</th>\n",
       "      <td>8371.000000</td>\n",
       "      <td>4.000000</td>\n",
       "      <td>9.000000</td>\n",
       "      <td>0.048947</td>\n",
       "      <td>0.646489</td>\n",
       "      <td>0.382567</td>\n",
       "      <td>0.503086</td>\n",
       "      <td>1.316667</td>\n",
       "      <td>649.000000</td>\n",
       "      <td>418.000000</td>\n",
       "      <td>1.000000</td>\n",
       "    </tr>\n",
       "  </tbody>\n",
       "</table>\n",
       "</div>"
      ],
      "text/plain": [
       "          filename       levels     openings  fraction_areas  fraction_widths  \\\n",
       "count  8371.000000  8371.000000  8371.000000     8371.000000      8371.000000   \n",
       "mean   4186.000000     2.214550     4.429100        0.034673         0.280837   \n",
       "std    2416.643885     0.814641     2.376273        0.005811         0.122312   \n",
       "min       1.000000     1.000000     0.000000        0.000000         0.000000   \n",
       "25%    2093.500000     2.000000     2.000000        0.031037         0.182203   \n",
       "50%    4186.000000     2.000000     4.000000        0.033692         0.264407   \n",
       "75%    6278.500000     3.000000     6.000000        0.037436         0.368039   \n",
       "max    8371.000000     4.000000     9.000000        0.048947         0.646489   \n",
       "\n",
       "       avg_fraction_widths  fraction_heights  aggregate_fraction_heights  \\\n",
       "count          8371.000000       8371.000000                 8371.000000   \n",
       "mean              0.154027          0.380955                    0.618545   \n",
       "std               0.057862          0.046367                    0.197414   \n",
       "min               0.000000          0.000000                    0.000000   \n",
       "25%               0.106780          0.345346                    0.433962   \n",
       "50%               0.150847          0.379630                    0.616667   \n",
       "75%               0.193424          0.419877                    0.752427   \n",
       "max               0.382567          0.503086                    1.316667   \n",
       "\n",
       "        img_widths  img_heights      Go/NoGo  \n",
       "count  8371.000000  8371.000000  8371.000000  \n",
       "mean    538.189225   321.595389     0.402580  \n",
       "std      64.461820    75.918444     0.490447  \n",
       "min       1.000000     1.000000     0.000000  \n",
       "25%     472.000000   300.000000     0.000000  \n",
       "50%     531.000000   324.000000     0.000000  \n",
       "75%     590.000000   395.000000     1.000000  \n",
       "max     649.000000   418.000000     1.000000  "
      ]
     },
     "execution_count": 28,
     "metadata": {},
     "output_type": "execute_result"
    }
   ],
   "source": [
    "df.describe()"
   ]
  },
  {
   "cell_type": "markdown",
   "metadata": {},
   "source": [
    "### Fitting in logistic model and evaluate the performance(accuracy)"
   ]
  },
  {
   "cell_type": "code",
   "execution_count": 29,
   "metadata": {},
   "outputs": [
    {
     "data": {
      "text/plain": [
       "1004.52"
      ]
     },
     "execution_count": 29,
     "metadata": {},
     "output_type": "execute_result"
    }
   ],
   "source": [
    ".12*8371"
   ]
  },
  {
   "cell_type": "code",
   "execution_count": 30,
   "metadata": {},
   "outputs": [],
   "source": [
    "X_train, X_test, y_train, y_test = train_test_split(df.iloc [:, 1:10] , df['Go/NoGo'], test_size=0.12, random_state=0)"
   ]
  },
  {
   "cell_type": "code",
   "execution_count": 31,
   "metadata": {},
   "outputs": [],
   "source": [
    "## normalizing the feature vectors\n",
    "scaler = StandardScaler()\n",
    "scaler.fit(X_train)\n",
    "X_train_scaled = pd.DataFrame(scaler.transform(X_train))\n",
    "X_test_scaled = pd.DataFrame(scaler.transform(X_test))"
   ]
  },
  {
   "cell_type": "code",
   "execution_count": 32,
   "metadata": {},
   "outputs": [],
   "source": [
    "## hyperparameter tuning\n",
    "logreg = LogisticRegression(solver = 'liblinear', class_weight = 'balanced')\n",
    "# balanced weights for class imbalance\n",
    "penalty = ['l1', 'l2']\n",
    "C =np.logspace(-2, 4, 10)\n",
    "hyperparameters = dict(C=C, penalty=penalty)"
   ]
  },
  {
   "cell_type": "code",
   "execution_count": 33,
   "metadata": {},
   "outputs": [],
   "source": [
    "# Create grid search using 5-fold cross validation\n",
    "clf = GridSearchCV(logreg, hyperparameters, cv=5, verbose=0)"
   ]
  },
  {
   "cell_type": "code",
   "execution_count": 34,
   "metadata": {},
   "outputs": [],
   "source": [
    "best_model = clf.fit(X_train_scaled, y_train)"
   ]
  },
  {
   "cell_type": "code",
   "execution_count": 35,
   "metadata": {},
   "outputs": [
    {
     "name": "stdout",
     "output_type": "stream",
     "text": [
      "Best Penalty: l1\n",
      "Best C: 0.21544346900318834\n"
     ]
    }
   ],
   "source": [
    "print('Best Penalty:', best_model.best_estimator_.get_params()['penalty'])\n",
    "print('Best C:', best_model.best_estimator_.get_params()['C'])"
   ]
  },
  {
   "cell_type": "code",
   "execution_count": 36,
   "metadata": {},
   "outputs": [],
   "source": [
    "y_pred = best_model.predict(X_test_scaled)"
   ]
  },
  {
   "cell_type": "code",
   "execution_count": 37,
   "metadata": {},
   "outputs": [
    {
     "name": "stdout",
     "output_type": "stream",
     "text": [
      "Accuracy of logistic regression classifier on test set: 78.81%\n"
     ]
    }
   ],
   "source": [
    "print('Accuracy of logistic regression classifier on test set: {:.2f}%'.format(100*best_model.score(X_test_scaled, y_test)))"
   ]
  },
  {
   "cell_type": "code",
   "execution_count": 38,
   "metadata": {},
   "outputs": [
    {
     "data": {
      "text/plain": [
       "array([[480, 125],\n",
       "       [ 88, 312]])"
      ]
     },
     "execution_count": 38,
     "metadata": {},
     "output_type": "execute_result"
    }
   ],
   "source": [
    "## Confustion Matrix\n",
    "confusion_matrix(y_test, y_pred)"
   ]
  },
  {
   "cell_type": "code",
   "execution_count": 39,
   "metadata": {},
   "outputs": [
    {
     "name": "stdout",
     "output_type": "stream",
     "text": [
      "Precision: 0.7139588100686499\n",
      "Recall: 0.78\n",
      "f1-score: 0.7455197132616487\n"
     ]
    }
   ],
   "source": [
    "print(\"Precision:\",metrics.precision_score(y_test, y_pred))\n",
    "print(\"Recall:\",metrics.recall_score(y_test, y_pred))\n",
    "print(\"f1-score:\",2*metrics.precision_score(y_test, y_pred)*metrics.recall_score(y_test, y_pred)\n",
    "      /(metrics.precision_score(y_test, y_pred)+metrics.recall_score(y_test, y_pred)))"
   ]
  },
  {
   "cell_type": "code",
   "execution_count": 40,
   "metadata": {},
   "outputs": [
    {
     "data": {
      "image/png": "[encoded data removed]",
      "text/plain": [
       "<Figure size 432x288 with 1 Axes>"
      ]
     },
     "metadata": {
      "needs_background": "light"
     },
     "output_type": "display_data"
    }
   ],
   "source": [
    "y_pred_proba = best_model.predict_proba(X_test_scaled)[::,1]\n",
    "fpr, tpr, _ = metrics.roc_curve(y_test,  y_pred_proba)\n",
    "auc = metrics.roc_auc_score(y_test, y_pred_proba)\n",
    "plt.plot(fpr,tpr,label=\"auc=\"+str(auc))\n",
    "plt.legend(loc=4)\n",
    "plt.show()"
   ]
  },
  {
   "cell_type": "markdown",
   "metadata": {},
   "source": [
    "### xgboost"
   ]
  },
  {
   "cell_type": "code",
   "execution_count": 41,
   "metadata": {},
   "outputs": [],
   "source": [
    "import xgboost as xgb\n",
    "from sklearn.preprocessing import LabelEncoder\n",
    "from sklearn import model_selection\n",
    "from sklearn.metrics import accuracy_score\n",
    "from sklearn.model_selection import train_test_split\n",
    "from xgboost import plot_importance\n",
    "from copy import copy"
   ]
  },
  {
   "cell_type": "code",
   "execution_count": 42,
   "metadata": {},
   "outputs": [],
   "source": [
    "# XGBoost doesn't (yet) handle categorical features automatically, so need to change\n",
    "# them to columns of integer values.\n",
    "\n",
    "## encode string class values as integers\n",
    "# le = LabelEncoder()\n",
    "# le = le.fit(df_model[\"category\"])\n",
    "# df_model[\"category\"] = le.transform(df_model[\"category\"])\n",
    "\n",
    "# split data into X and Y\n",
    "# X = df.iloc[:,1:10]\n",
    "# Y = df.iloc[:,10]\n",
    "\n",
    "## encode string class values as integers\n",
    "# le = LabelEncoder()\n",
    "# label_encoder = le.fit(Y)\n",
    "# label_encoded_y = le.transform(Y)\n",
    "\n",
    "#seed = 1234\n",
    "#test_size = 0.20\n",
    "\n",
    "# train/test split\n",
    "#X_train, X_test, y_train, y_test =  train_test_split(X, Y, test_size=test_size, random_state=seed)"
   ]
  },
  {
   "cell_type": "code",
   "execution_count": 43,
   "metadata": {},
   "outputs": [
    {
     "name": "stdout",
     "output_type": "stream",
     "text": [
      "XGBClassifier(base_score=0.5, booster='gbtree', colsample_bylevel=1,\n",
      "              colsample_bynode=1, colsample_bytree=1, gamma=0,\n",
      "              learning_rate=0.1, max_delta_step=0, max_depth=3,\n",
      "              min_child_weight=1, missing=None, n_estimators=100, n_jobs=1,\n",
      "              nthread=None, objective='binary:logistic', random_state=0,\n",
      "              reg_alpha=0, reg_lambda=1, scale_pos_weight=1, seed=None,\n",
      "              silent=None, subsample=1, verbosity=1)\n"
     ]
    }
   ],
   "source": [
    "# fit model no training data\n",
    "model = xgb.XGBClassifier()\n",
    "model.fit(X_train_scaled, y_train)\n",
    "\n",
    "print(model)"
   ]
  },
  {
   "cell_type": "code",
   "execution_count": 44,
   "metadata": {},
   "outputs": [
    {
     "name": "stdout",
     "output_type": "stream",
     "text": [
      "Accuracy: 85.17%\n"
     ]
    }
   ],
   "source": [
    "# make predictions for test data\n",
    "y_pred = model.predict(X_test_scaled)\n",
    "predictions = [round(value) for value in y_pred]\n",
    "\n",
    "# evaluate predictions\n",
    "accuracy = accuracy_score(y_test, predictions)\n",
    "print(\"Accuracy: %.2f%%\" % (accuracy * 100.0))"
   ]
  },
  {
   "cell_type": "code",
   "execution_count": 45,
   "metadata": {},
   "outputs": [
    {
     "data": {
      "text/plain": [
       "array([[537,  68],\n",
       "       [ 81, 319]])"
      ]
     },
     "execution_count": 45,
     "metadata": {},
     "output_type": "execute_result"
    }
   ],
   "source": [
    "confusion_matrix(y_test, predictions)"
   ]
  },
  {
   "cell_type": "code",
   "execution_count": 46,
   "metadata": {},
   "outputs": [
    {
     "name": "stdout",
     "output_type": "stream",
     "text": [
      "Precision: 0.8242894056847545\n",
      "Recall: 0.7975\n",
      "f1-score: 0.8106734434561627\n"
     ]
    }
   ],
   "source": [
    "print(\"Precision:\",metrics.precision_score(y_test, predictions))\n",
    "print(\"Recall:\",metrics.recall_score(y_test, predictions))\n",
    "print(\"f1-score:\",2*metrics.precision_score(y_test, predictions)*metrics.recall_score(y_test, predictions)\n",
    "      /(metrics.precision_score(y_test, predictions)+metrics.recall_score(y_test, predictions)))"
   ]
  },
  {
   "cell_type": "markdown",
   "metadata": {},
   "source": [
    "#### This is our best model: with accuracy of 85.17% and f1-score of 0.81"
   ]
  },
  {
   "cell_type": "markdown",
   "metadata": {},
   "source": [
    "### verifying feature significance"
   ]
  },
  {
   "cell_type": "code",
   "execution_count": 47,
   "metadata": {},
   "outputs": [
    {
     "data": {
      "image/png": "[encoded data removed]",
      "text/plain": [
       "<Figure size 1440x720 with 1 Axes>"
      ]
     },
     "metadata": {
      "needs_background": "light"
     },
     "output_type": "display_data"
    }
   ],
   "source": [
    "# feature importance use built-in XGBoost Feature Importance Plot\n",
    "fig, ax = plt.subplots(1,1,figsize=(20,10))\n",
    "xgb.plot_importance(model, ax=ax)\n",
    "plt.xticks(fontsize=20)\n",
    "plt.yticks(fontsize=20)\n",
    "plt.xlabel(\"F Score\", fontsize=25)\n",
    "plt.ylabel(\"Features\", fontsize=25)\n",
    "plt.title('Feature Importance', fontsize=30)\n",
    "fig.savefig('featureInportance1.png')\n",
    "plt.show()"
   ]
  },
  {
   "cell_type": "markdown",
   "metadata": {},
   "source": [
    "### refit the logistic model: dropping the least important feature \"levels\""
   ]
  },
  {
   "cell_type": "code",
   "execution_count": 48,
   "metadata": {},
   "outputs": [
    {
     "data": {
      "text/html": [
       "<div>\n",
       "<style scoped>\n",
       "    .dataframe tbody tr th:only-of-type {\n",
       "        vertical-align: middle;\n",
       "    }\n",
       "\n",
       "    .dataframe tbody tr th {\n",
       "        vertical-align: top;\n",
       "    }\n",
       "\n",
       "    .dataframe thead th {\n",
       "        text-align: right;\n",
       "    }\n",
       "</style>\n",
       "<table border=\"1\" class=\"dataframe\">\n",
       "  <thead>\n",
       "    <tr style=\"text-align: right;\">\n",
       "      <th></th>\n",
       "      <th>filename</th>\n",
       "      <th>openings</th>\n",
       "      <th>fraction_areas</th>\n",
       "      <th>fraction_widths</th>\n",
       "      <th>avg_fraction_widths</th>\n",
       "      <th>fraction_heights</th>\n",
       "      <th>aggregate_fraction_heights</th>\n",
       "      <th>img_widths</th>\n",
       "      <th>img_heights</th>\n",
       "      <th>Go/NoGo</th>\n",
       "    </tr>\n",
       "  </thead>\n",
       "  <tbody>\n",
       "    <tr>\n",
       "      <th>0</th>\n",
       "      <td>1007</td>\n",
       "      <td>1.0</td>\n",
       "      <td>0.028925</td>\n",
       "      <td>0.096045</td>\n",
       "      <td>0.096045</td>\n",
       "      <td>0.407767</td>\n",
       "      <td>0.407767</td>\n",
       "      <td>531</td>\n",
       "      <td>206</td>\n",
       "      <td>1</td>\n",
       "    </tr>\n",
       "    <tr>\n",
       "      <th>1</th>\n",
       "      <td>1008</td>\n",
       "      <td>1.0</td>\n",
       "      <td>0.027588</td>\n",
       "      <td>0.105461</td>\n",
       "      <td>0.105461</td>\n",
       "      <td>0.432990</td>\n",
       "      <td>0.432990</td>\n",
       "      <td>531</td>\n",
       "      <td>194</td>\n",
       "      <td>1</td>\n",
       "    </tr>\n",
       "    <tr>\n",
       "      <th>2</th>\n",
       "      <td>1011</td>\n",
       "      <td>2.0</td>\n",
       "      <td>0.028925</td>\n",
       "      <td>0.167608</td>\n",
       "      <td>0.167608</td>\n",
       "      <td>0.461165</td>\n",
       "      <td>0.665049</td>\n",
       "      <td>531</td>\n",
       "      <td>206</td>\n",
       "      <td>1</td>\n",
       "    </tr>\n",
       "    <tr>\n",
       "      <th>3</th>\n",
       "      <td>1016</td>\n",
       "      <td>4.0</td>\n",
       "      <td>0.033021</td>\n",
       "      <td>0.269492</td>\n",
       "      <td>0.089831</td>\n",
       "      <td>0.336927</td>\n",
       "      <td>0.412399</td>\n",
       "      <td>590</td>\n",
       "      <td>371</td>\n",
       "      <td>1</td>\n",
       "    </tr>\n",
       "    <tr>\n",
       "      <th>4</th>\n",
       "      <td>1026</td>\n",
       "      <td>2.0</td>\n",
       "      <td>0.034910</td>\n",
       "      <td>0.133710</td>\n",
       "      <td>0.097928</td>\n",
       "      <td>0.410494</td>\n",
       "      <td>0.410494</td>\n",
       "      <td>531</td>\n",
       "      <td>324</td>\n",
       "      <td>1</td>\n",
       "    </tr>\n",
       "    <tr>\n",
       "      <th>...</th>\n",
       "      <td>...</td>\n",
       "      <td>...</td>\n",
       "      <td>...</td>\n",
       "      <td>...</td>\n",
       "      <td>...</td>\n",
       "      <td>...</td>\n",
       "      <td>...</td>\n",
       "      <td>...</td>\n",
       "      <td>...</td>\n",
       "      <td>...</td>\n",
       "    </tr>\n",
       "    <tr>\n",
       "      <th>8366</th>\n",
       "      <td>995</td>\n",
       "      <td>8.0</td>\n",
       "      <td>0.041276</td>\n",
       "      <td>0.440678</td>\n",
       "      <td>0.239407</td>\n",
       "      <td>0.336927</td>\n",
       "      <td>0.781671</td>\n",
       "      <td>472</td>\n",
       "      <td>371</td>\n",
       "      <td>0</td>\n",
       "    </tr>\n",
       "    <tr>\n",
       "      <th>8367</th>\n",
       "      <td>996</td>\n",
       "      <td>3.0</td>\n",
       "      <td>0.037436</td>\n",
       "      <td>0.244821</td>\n",
       "      <td>0.081607</td>\n",
       "      <td>0.377215</td>\n",
       "      <td>0.377215</td>\n",
       "      <td>531</td>\n",
       "      <td>395</td>\n",
       "      <td>0</td>\n",
       "    </tr>\n",
       "    <tr>\n",
       "      <th>8368</th>\n",
       "      <td>997</td>\n",
       "      <td>4.0</td>\n",
       "      <td>0.029841</td>\n",
       "      <td>0.204931</td>\n",
       "      <td>0.102465</td>\n",
       "      <td>0.386667</td>\n",
       "      <td>0.656667</td>\n",
       "      <td>649</td>\n",
       "      <td>300</td>\n",
       "      <td>0</td>\n",
       "    </tr>\n",
       "    <tr>\n",
       "      <th>8369</th>\n",
       "      <td>998</td>\n",
       "      <td>9.0</td>\n",
       "      <td>0.037436</td>\n",
       "      <td>0.355932</td>\n",
       "      <td>0.222850</td>\n",
       "      <td>0.387342</td>\n",
       "      <td>1.050633</td>\n",
       "      <td>531</td>\n",
       "      <td>395</td>\n",
       "      <td>0</td>\n",
       "    </tr>\n",
       "    <tr>\n",
       "      <th>8370</th>\n",
       "      <td>999</td>\n",
       "      <td>3.0</td>\n",
       "      <td>0.035879</td>\n",
       "      <td>0.237288</td>\n",
       "      <td>0.118644</td>\n",
       "      <td>0.408046</td>\n",
       "      <td>0.528736</td>\n",
       "      <td>531</td>\n",
       "      <td>348</td>\n",
       "      <td>0</td>\n",
       "    </tr>\n",
       "  </tbody>\n",
       "</table>\n",
       "<p>8371 rows × 10 columns</p>\n",
       "</div>"
      ],
      "text/plain": [
       "      filename  openings  fraction_areas  fraction_widths  \\\n",
       "0         1007       1.0        0.028925         0.096045   \n",
       "1         1008       1.0        0.027588         0.105461   \n",
       "2         1011       2.0        0.028925         0.167608   \n",
       "3         1016       4.0        0.033021         0.269492   \n",
       "4         1026       2.0        0.034910         0.133710   \n",
       "...        ...       ...             ...              ...   \n",
       "8366       995       8.0        0.041276         0.440678   \n",
       "8367       996       3.0        0.037436         0.244821   \n",
       "8368       997       4.0        0.029841         0.204931   \n",
       "8369       998       9.0        0.037436         0.355932   \n",
       "8370       999       3.0        0.035879         0.237288   \n",
       "\n",
       "      avg_fraction_widths  fraction_heights  aggregate_fraction_heights  \\\n",
       "0                0.096045          0.407767                    0.407767   \n",
       "1                0.105461          0.432990                    0.432990   \n",
       "2                0.167608          0.461165                    0.665049   \n",
       "3                0.089831          0.336927                    0.412399   \n",
       "4                0.097928          0.410494                    0.410494   \n",
       "...                   ...               ...                         ...   \n",
       "8366             0.239407          0.336927                    0.781671   \n",
       "8367             0.081607          0.377215                    0.377215   \n",
       "8368             0.102465          0.386667                    0.656667   \n",
       "8369             0.222850          0.387342                    1.050633   \n",
       "8370             0.118644          0.408046                    0.528736   \n",
       "\n",
       "      img_widths  img_heights  Go/NoGo  \n",
       "0            531          206        1  \n",
       "1            531          194        1  \n",
       "2            531          206        1  \n",
       "3            590          371        1  \n",
       "4            531          324        1  \n",
       "...          ...          ...      ...  \n",
       "8366         472          371        0  \n",
       "8367         531          395        0  \n",
       "8368         649          300        0  \n",
       "8369         531          395        0  \n",
       "8370         531          348        0  \n",
       "\n",
       "[8371 rows x 10 columns]"
      ]
     },
     "execution_count": 48,
     "metadata": {},
     "output_type": "execute_result"
    }
   ],
   "source": [
    "df.drop(['levels'],axis=1)"
   ]
  },
  {
   "cell_type": "code",
   "execution_count": 49,
   "metadata": {},
   "outputs": [],
   "source": [
    "X_train, X_test, y_train, y_test = train_test_split(df.iloc [:, 1:9] , df['Go/NoGo'], test_size=0.12, random_state=0)\n",
    "## normalizing the feature vectors\n",
    "scaler = StandardScaler()\n",
    "scaler.fit(X_train)\n",
    "X_train_scaled = pd.DataFrame(scaler.transform(X_train))\n",
    "X_test_scaled = pd.DataFrame(scaler.transform(X_test))"
   ]
  },
  {
   "cell_type": "code",
   "execution_count": 50,
   "metadata": {},
   "outputs": [],
   "source": [
    "## hyperparameter tuning\n",
    "logreg = LogisticRegression(solver = 'liblinear', class_weight = 'balanced')\n",
    "# balanced weights for class imbalance\n",
    "penalty = ['l1', 'l2']\n",
    "C =np.logspace(-2, 4, 10)\n",
    "hyperparameters = dict(C=C, penalty=penalty)"
   ]
  },
  {
   "cell_type": "code",
   "execution_count": 51,
   "metadata": {},
   "outputs": [],
   "source": [
    "# Create grid search using 5-fold cross validation\n",
    "clf = GridSearchCV(logreg, hyperparameters, cv=5, verbose=0)\n",
    "best_model = clf.fit(X_train_scaled, y_train)"
   ]
  },
  {
   "cell_type": "code",
   "execution_count": 52,
   "metadata": {},
   "outputs": [
    {
     "name": "stdout",
     "output_type": "stream",
     "text": [
      "Best Penalty: l2\n",
      "Best C: 0.046415888336127774\n"
     ]
    }
   ],
   "source": [
    "print('Best Penalty:', best_model.best_estimator_.get_params()['penalty'])\n",
    "print('Best C:', best_model.best_estimator_.get_params()['C'])"
   ]
  },
  {
   "cell_type": "code",
   "execution_count": 53,
   "metadata": {},
   "outputs": [],
   "source": [
    "y_pred = best_model.predict(X_test_scaled)"
   ]
  },
  {
   "cell_type": "code",
   "execution_count": 54,
   "metadata": {},
   "outputs": [
    {
     "name": "stdout",
     "output_type": "stream",
     "text": [
      "Accuracy of logistic regression classifier on test set: 79.00%\n"
     ]
    }
   ],
   "source": [
    "print('Accuracy of logistic regression classifier on test set: {:.2f}%'.format(100*best_model.score(X_test_scaled, y_test)))"
   ]
  },
  {
   "cell_type": "code",
   "execution_count": 55,
   "metadata": {},
   "outputs": [
    {
     "data": {
      "text/plain": [
       "array([[479, 126],\n",
       "       [ 85, 315]])"
      ]
     },
     "execution_count": 55,
     "metadata": {},
     "output_type": "execute_result"
    }
   ],
   "source": [
    "## Confustion Matrix\n",
    "confusion_matrix(y_test, y_pred)"
   ]
  },
  {
   "cell_type": "code",
   "execution_count": 56,
   "metadata": {},
   "outputs": [
    {
     "name": "stdout",
     "output_type": "stream",
     "text": [
      "Precision: 0.7142857142857143\n",
      "Recall: 0.7875\n",
      "f1-score: 0.7491082045184304\n"
     ]
    }
   ],
   "source": [
    "print(\"Precision:\",metrics.precision_score(y_test, y_pred))\n",
    "print(\"Recall:\",metrics.recall_score(y_test, y_pred))\n",
    "print(\"f1-score:\",2*metrics.precision_score(y_test, y_pred)*metrics.recall_score(y_test, y_pred)\n",
    "      /(metrics.precision_score(y_test, y_pred)+metrics.recall_score(y_test, y_pred)))"
   ]
  },
  {
   "cell_type": "code",
   "execution_count": 57,
   "metadata": {},
   "outputs": [
    {
     "data": {
      "image/png": "[encoded data removed]",
      "text/plain": [
       "<Figure size 432x288 with 1 Axes>"
      ]
     },
     "metadata": {
      "needs_background": "light"
     },
     "output_type": "display_data"
    }
   ],
   "source": [
    "y_pred_proba = best_model.predict_proba(X_test_scaled)[::,1]\n",
    "fpr, tpr, _ = metrics.roc_curve(y_test,  y_pred_proba)\n",
    "auc = metrics.roc_auc_score(y_test, y_pred_proba)\n",
    "plt.plot(fpr,tpr,label=\"auc=\"+str(auc))\n",
    "plt.legend(loc=4)\n",
    "plt.show()"
   ]
  },
  {
   "cell_type": "markdown",
   "metadata": {},
   "source": [
    "#### As the accuracy and other metrics decreased significantly, we decided not to exclude any feature"
   ]
  }
 ],
 "metadata": {
  "kernelspec": {
   "display_name": "Python [conda env:build_change]",
   "language": "python",
   "name": "conda-env-build_change-py"
  },
  "language_info": {
   "codemirror_mode": {
    "name": "ipython",
    "version": 3
   },
   "file_extension": ".py",
   "mimetype": "text/x-python",
   "name": "python",
   "nbconvert_exporter": "python",
   "pygments_lexer": "ipython3",
   "version": "3.6.7"
  }
 },
 "nbformat": 4,
 "nbformat_minor": 2
}
